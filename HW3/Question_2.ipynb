{
  "nbformat": 4,
  "nbformat_minor": 0,
  "metadata": {
    "colab": {
      "provenance": [],
      "gpuType": "T4"
    },
    "kernelspec": {
      "name": "python3",
      "display_name": "Python 3"
    },
    "language_info": {
      "name": "python"
    },
    "accelerator": "GPU"
  },
  "cells": [
    {
      "cell_type": "code",
      "execution_count": 14,
      "metadata": {
        "id": "6VgJYONfh_oj"
      },
      "outputs": [],
      "source": [
        "import torch\n",
        "import torch.nn as nn\n",
        "import torch.nn.functional as F\n",
        "\n",
        "class SimpleNN(nn.Module):\n",
        "    def __init__(self, input_size = 28*28, hidden_size = 128, output_size =62):\n",
        "        super(SimpleNN, self).__init__()\n",
        "        self.fc1 = nn.Linear(input_size, hidden_size)\n",
        "        self.fc2 = nn.Linear(hidden_size, output_size)\n",
        "\n",
        "    def forward(self, x):\n",
        "        x = x.view(-1, 28*28)\n",
        "        x = F.relu(self.fc1(x))\n",
        "        x = self.fc2(x)\n",
        "        return F.log_softmax(x, dim=1)\n"
      ]
    },
    {
      "cell_type": "code",
      "source": [
        "pip install torch ray\n"
      ],
      "metadata": {
        "colab": {
          "base_uri": "https://localhost:8080/"
        },
        "id": "tPZZtJKJjf35",
        "outputId": "db05a4c8-47f5-46b3-8501-d43eaba40a95"
      },
      "execution_count": 3,
      "outputs": [
        {
          "output_type": "stream",
          "name": "stdout",
          "text": [
            "Requirement already satisfied: torch in /usr/local/lib/python3.10/dist-packages (2.1.0+cu118)\n",
            "Collecting ray\n",
            "  Downloading ray-2.8.0-cp310-cp310-manylinux2014_x86_64.whl (62.5 MB)\n",
            "\u001b[2K     \u001b[90m━━━━━━━━━━━━━━━━━━━━━━━━━━━━━━━━━━━━━━━━\u001b[0m \u001b[32m62.5/62.5 MB\u001b[0m \u001b[31m12.8 MB/s\u001b[0m eta \u001b[36m0:00:00\u001b[0m\n",
            "\u001b[?25hRequirement already satisfied: filelock in /usr/local/lib/python3.10/dist-packages (from torch) (3.13.1)\n",
            "Requirement already satisfied: typing-extensions in /usr/local/lib/python3.10/dist-packages (from torch) (4.5.0)\n",
            "Requirement already satisfied: sympy in /usr/local/lib/python3.10/dist-packages (from torch) (1.12)\n",
            "Requirement already satisfied: networkx in /usr/local/lib/python3.10/dist-packages (from torch) (3.2.1)\n",
            "Requirement already satisfied: jinja2 in /usr/local/lib/python3.10/dist-packages (from torch) (3.1.2)\n",
            "Requirement already satisfied: fsspec in /usr/local/lib/python3.10/dist-packages (from torch) (2023.6.0)\n",
            "Requirement already satisfied: triton==2.1.0 in /usr/local/lib/python3.10/dist-packages (from torch) (2.1.0)\n",
            "Requirement already satisfied: click>=7.0 in /usr/local/lib/python3.10/dist-packages (from ray) (8.1.7)\n",
            "Requirement already satisfied: jsonschema in /usr/local/lib/python3.10/dist-packages (from ray) (4.19.2)\n",
            "Requirement already satisfied: msgpack<2.0.0,>=1.0.0 in /usr/local/lib/python3.10/dist-packages (from ray) (1.0.7)\n",
            "Requirement already satisfied: packaging in /usr/local/lib/python3.10/dist-packages (from ray) (23.2)\n",
            "Requirement already satisfied: protobuf!=3.19.5,>=3.15.3 in /usr/local/lib/python3.10/dist-packages (from ray) (3.20.3)\n",
            "Requirement already satisfied: pyyaml in /usr/local/lib/python3.10/dist-packages (from ray) (6.0.1)\n",
            "Requirement already satisfied: aiosignal in /usr/local/lib/python3.10/dist-packages (from ray) (1.3.1)\n",
            "Requirement already satisfied: frozenlist in /usr/local/lib/python3.10/dist-packages (from ray) (1.4.0)\n",
            "Requirement already satisfied: requests in /usr/local/lib/python3.10/dist-packages (from ray) (2.31.0)\n",
            "Requirement already satisfied: numpy>=1.19.3 in /usr/local/lib/python3.10/dist-packages (from ray) (1.23.5)\n",
            "Requirement already satisfied: MarkupSafe>=2.0 in /usr/local/lib/python3.10/dist-packages (from jinja2->torch) (2.1.3)\n",
            "Requirement already satisfied: attrs>=22.2.0 in /usr/local/lib/python3.10/dist-packages (from jsonschema->ray) (23.1.0)\n",
            "Requirement already satisfied: jsonschema-specifications>=2023.03.6 in /usr/local/lib/python3.10/dist-packages (from jsonschema->ray) (2023.7.1)\n",
            "Requirement already satisfied: referencing>=0.28.4 in /usr/local/lib/python3.10/dist-packages (from jsonschema->ray) (0.30.2)\n",
            "Requirement already satisfied: rpds-py>=0.7.1 in /usr/local/lib/python3.10/dist-packages (from jsonschema->ray) (0.12.0)\n",
            "Requirement already satisfied: charset-normalizer<4,>=2 in /usr/local/lib/python3.10/dist-packages (from requests->ray) (3.3.2)\n",
            "Requirement already satisfied: idna<4,>=2.5 in /usr/local/lib/python3.10/dist-packages (from requests->ray) (3.4)\n",
            "Requirement already satisfied: urllib3<3,>=1.21.1 in /usr/local/lib/python3.10/dist-packages (from requests->ray) (2.0.7)\n",
            "Requirement already satisfied: certifi>=2017.4.17 in /usr/local/lib/python3.10/dist-packages (from requests->ray) (2023.7.22)\n",
            "Requirement already satisfied: mpmath>=0.19 in /usr/local/lib/python3.10/dist-packages (from sympy->torch) (1.3.0)\n",
            "Installing collected packages: ray\n",
            "Successfully installed ray-2.8.0\n"
          ]
        }
      ]
    },
    {
      "cell_type": "code",
      "source": [
        "import ray\n",
        "\n",
        "@ray.remote(num_cpus=1, num_gpus=1)  # Adjust resources as needed\n",
        "class ClientActor:\n",
        "    def __init__(self, model, loss_fn, data_loader):\n",
        "        self.model = model\n",
        "        self.model.load_state_dict(global_model.state_dict())\n",
        "        self.optimizer = torch.optim.Adam(self.model.parameters())\n",
        "        self.loss_fn = loss_fn\n",
        "        self.data_loader = data_loader\n",
        "\n",
        "    def train(self):\n",
        "        self.model.train()\n",
        "        data = torch.tensor(datasets[0]['images']).view(-1,28*28)\n",
        "        #data = data.view(data.size(0), -1)\n",
        "        print(data.shape)\n",
        "        target = torch.tensor(self.data_loader['labels']).type(torch.LongTensor)\n",
        "        self.optimizer.zero_grad()\n",
        "        output = self.model(data)\n",
        "        loss = self.loss_fn(output, target)\n",
        "        loss.backward()\n",
        "        self.optimizer.step()\n",
        "        return self.model.state_dict()\n",
        "    def set_model(self, global_model_state_dict):\n",
        "        self.model.load_state_dict(global_model_state_dict)\n"
      ],
      "metadata": {
        "id": "wmwKC0mpjizi"
      },
      "execution_count": 39,
      "outputs": []
    },
    {
      "cell_type": "code",
      "source": [
        "from google.colab import drive\n",
        "import numpy as np\n",
        "drive.mount('/content/drive')\n",
        "path_to_data = 'drive/MyDrive/Colab Notebooks/train_data.npy'\n",
        "user_ids = [0, 1, 2, 3, 4]  # Replace with chosen user IDs\n",
        "datasets = np.load(path_to_data, allow_pickle=True)"
      ],
      "metadata": {
        "colab": {
          "base_uri": "https://localhost:8080/"
        },
        "id": "VO7yRdUWk_fv",
        "outputId": "e0a80b8f-5689-4e59-cdd1-0f63b7f0ed07"
      },
      "execution_count": 5,
      "outputs": [
        {
          "output_type": "stream",
          "name": "stdout",
          "text": [
            "Mounted at /content/drive\n"
          ]
        }
      ]
    },
    {
      "cell_type": "code",
      "source": [],
      "metadata": {
        "id": "6goxiSFJlZnF"
      },
      "execution_count": null,
      "outputs": []
    },
    {
      "cell_type": "code",
      "source": [
        "#ray.init()  # Initialize Ray\n",
        "\n",
        "# Assuming you have a DataLoader, loss function, and optimizer ready\n",
        "# For example:\n",
        "# data_loader = DataLoader(...)\n",
        "loss_fn = nn.CrossEntropyLoss()\n",
        "#optimizer = torch.optim.Adam(model.parameters())\n",
        "\n",
        "# Create client actors\n",
        "num_clients = 4  # Adjust as needed\n",
        "#client_actors = [ClientActor.remote(SimpleNN(), loss_fn, datasets[i]) for i in range(num_clients)]\n",
        "#client_actors = [ClientActor(SimpleNN(), loss_fn, datasets[i]) for i in range(num_clients)]\n",
        "\n"
      ],
      "metadata": {
        "id": "2WLV1RY-jnOx"
      },
      "execution_count": 40,
      "outputs": []
    },
    {
      "cell_type": "code",
      "source": [
        "print(torch.tensor(datasets[0]['images']).view(-1,28*28).shape)"
      ],
      "metadata": {
        "id": "TFZSvTy9Btmy",
        "outputId": "0996a40e-464f-4645-8750-66567e67831d",
        "colab": {
          "base_uri": "https://localhost:8080/"
        }
      },
      "execution_count": 33,
      "outputs": [
        {
          "output_type": "stream",
          "name": "stdout",
          "text": [
            "torch.Size([344, 784])\n"
          ]
        }
      ]
    },
    {
      "cell_type": "code",
      "source": [
        "num_rounds = 10  # Define the number of communication rounds\n",
        "\n",
        "for round in range(num_rounds):\n",
        "    print(round)\n",
        "    num_clients = 4  # Adjust as needed\n",
        "    selected_clients = np.random.choice(np.arange(len(datasets)), num_clients, replace=False)\n",
        "    client_actors = [ClientActor.remote(SimpleNN(), loss_fn, ray.put(datasets[i])) for i in selected_clients]\n",
        "    # Sample clients and train in parallel\n",
        "    #updated_models = [actor.train() for actor in client_actors]\n",
        "    updated_models = ray.get([actor.train.remote() for actor in client_actors])\n",
        "\n",
        "    # Aggregate model updates (simple averaging for demonstration)\n",
        "    global_model_state_dict = {k: torch.mean(torch.stack([model[k] for model in updated_models]), dim=0) for k in updated_models[0]}\n",
        "\n",
        "    # Update global model\n",
        "    for actor in client_actors:\n",
        "        actor.set_model.remote(global_model_state_dict)\n"
      ],
      "metadata": {
        "colab": {
          "base_uri": "https://localhost:8080/",
          "height": 1000
        },
        "id": "VifsinCaqz3A",
        "outputId": "2680fdd2-6b0c-4311-f225-aaabb025ba57"
      },
      "execution_count": 42,
      "outputs": [
        {
          "output_type": "stream",
          "name": "stdout",
          "text": [
            "0\n"
          ]
        },
        {
          "output_type": "stream",
          "name": "stderr",
          "text": [
            "2023-11-16 21:40:35,433\tWARNING worker.py:2074 -- Traceback (most recent call last):\n",
            "  File \"python/ray/_raylet.pyx\", line 2064, in ray._raylet.task_execution_handler\n",
            "  File \"python/ray/_raylet.pyx\", line 1921, in ray._raylet.execute_task_with_cancellation_handler\n",
            "  File \"/usr/local/lib/python3.10/dist-packages/ray/_private/function_manager.py\", line 574, in load_actor_class\n",
            "    actor_class = self._load_actor_class_from_gcs(\n",
            "  File \"/usr/local/lib/python3.10/dist-packages/ray/_private/function_manager.py\", line 669, in _load_actor_class_from_gcs\n",
            "    class_name = ensure_str(class_name)\n",
            "  File \"/usr/local/lib/python3.10/dist-packages/ray/_private/utils.py\", line 243, in ensure_str\n",
            "    assert isinstance(s, bytes)\n",
            "AssertionError\n",
            "An unexpected internal error occurred while the worker was executing a task.\n",
            "2023-11-16 21:40:35,443\tWARNING worker.py:2074 -- A worker died or was killed while executing a task by an unexpected system error. To troubleshoot the problem, check the logs for the dead worker. RayTask ID: ffffffffffffffff1d100c02e3db58bf8c0e872b01000000 Worker ID: d13edf96dca37cd216801f1f01bbf0f74cec68dfa94ccee3a10477ae Node ID: 06c3277f7c76f08fe84b2bfa0bb2a79c3be00685934ce72b39bfa272 Worker IP address: 172.28.0.12 Worker port: 46347 Worker PID: 33744 Worker exit type: SYSTEM_ERROR Worker exit detail: Worker exits unexpectedly. Worker exits with an exit code None. Traceback (most recent call last):\n",
            "  File \"python/ray/_raylet.pyx\", line 2064, in ray._raylet.task_execution_handler\n",
            "  File \"python/ray/_raylet.pyx\", line 1921, in ray._raylet.execute_task_with_cancellation_handler\n",
            "  File \"/usr/local/lib/python3.10/dist-packages/ray/_private/function_manager.py\", line 574, in load_actor_class\n",
            "    actor_class = self._load_actor_class_from_gcs(\n",
            "  File \"/usr/local/lib/python3.10/dist-packages/ray/_private/function_manager.py\", line 669, in _load_actor_class_from_gcs\n",
            "    class_name = ensure_str(class_name)\n",
            "  File \"/usr/local/lib/python3.10/dist-packages/ray/_private/utils.py\", line 243, in ensure_str\n",
            "    assert isinstance(s, bytes)\n",
            "AssertionError\n",
            "An unexpected internal error occurred while the worker was executing a task.\n"
          ]
        },
        {
          "output_type": "error",
          "ename": "RayActorError",
          "evalue": "ignored",
          "traceback": [
            "\u001b[0;31m---------------------------------------------------------------------------\u001b[0m",
            "\u001b[0;31mRayActorError\u001b[0m                             Traceback (most recent call last)",
            "\u001b[0;32m<ipython-input-42-3898135a30cc>\u001b[0m in \u001b[0;36m<cell line: 3>\u001b[0;34m()\u001b[0m\n\u001b[1;32m      8\u001b[0m     \u001b[0;31m# Sample clients and train in parallel\u001b[0m\u001b[0;34m\u001b[0m\u001b[0;34m\u001b[0m\u001b[0m\n\u001b[1;32m      9\u001b[0m     \u001b[0;31m#updated_models = [actor.train() for actor in client_actors]\u001b[0m\u001b[0;34m\u001b[0m\u001b[0;34m\u001b[0m\u001b[0m\n\u001b[0;32m---> 10\u001b[0;31m     \u001b[0mupdated_models\u001b[0m \u001b[0;34m=\u001b[0m \u001b[0mray\u001b[0m\u001b[0;34m.\u001b[0m\u001b[0mget\u001b[0m\u001b[0;34m(\u001b[0m\u001b[0;34m[\u001b[0m\u001b[0mactor\u001b[0m\u001b[0;34m.\u001b[0m\u001b[0mtrain\u001b[0m\u001b[0;34m.\u001b[0m\u001b[0mremote\u001b[0m\u001b[0;34m(\u001b[0m\u001b[0;34m)\u001b[0m \u001b[0;32mfor\u001b[0m \u001b[0mactor\u001b[0m \u001b[0;32min\u001b[0m \u001b[0mclient_actors\u001b[0m\u001b[0;34m]\u001b[0m\u001b[0;34m)\u001b[0m\u001b[0;34m\u001b[0m\u001b[0;34m\u001b[0m\u001b[0m\n\u001b[0m\u001b[1;32m     11\u001b[0m \u001b[0;34m\u001b[0m\u001b[0m\n\u001b[1;32m     12\u001b[0m     \u001b[0;31m# Aggregate model updates (simple averaging for demonstration)\u001b[0m\u001b[0;34m\u001b[0m\u001b[0;34m\u001b[0m\u001b[0m\n",
            "\u001b[0;32m/usr/local/lib/python3.10/dist-packages/ray/_private/auto_init_hook.py\u001b[0m in \u001b[0;36mauto_init_wrapper\u001b[0;34m(*args, **kwargs)\u001b[0m\n\u001b[1;32m     22\u001b[0m     \u001b[0;32mdef\u001b[0m \u001b[0mauto_init_wrapper\u001b[0m\u001b[0;34m(\u001b[0m\u001b[0;34m*\u001b[0m\u001b[0margs\u001b[0m\u001b[0;34m,\u001b[0m \u001b[0;34m**\u001b[0m\u001b[0mkwargs\u001b[0m\u001b[0;34m)\u001b[0m\u001b[0;34m:\u001b[0m\u001b[0;34m\u001b[0m\u001b[0;34m\u001b[0m\u001b[0m\n\u001b[1;32m     23\u001b[0m         \u001b[0mauto_init_ray\u001b[0m\u001b[0;34m(\u001b[0m\u001b[0;34m)\u001b[0m\u001b[0;34m\u001b[0m\u001b[0;34m\u001b[0m\u001b[0m\n\u001b[0;32m---> 24\u001b[0;31m         \u001b[0;32mreturn\u001b[0m \u001b[0mfn\u001b[0m\u001b[0;34m(\u001b[0m\u001b[0;34m*\u001b[0m\u001b[0margs\u001b[0m\u001b[0;34m,\u001b[0m \u001b[0;34m**\u001b[0m\u001b[0mkwargs\u001b[0m\u001b[0;34m)\u001b[0m\u001b[0;34m\u001b[0m\u001b[0;34m\u001b[0m\u001b[0m\n\u001b[0m\u001b[1;32m     25\u001b[0m \u001b[0;34m\u001b[0m\u001b[0m\n\u001b[1;32m     26\u001b[0m     \u001b[0;32mreturn\u001b[0m \u001b[0mauto_init_wrapper\u001b[0m\u001b[0;34m\u001b[0m\u001b[0;34m\u001b[0m\u001b[0m\n",
            "\u001b[0;32m/usr/local/lib/python3.10/dist-packages/ray/_private/client_mode_hook.py\u001b[0m in \u001b[0;36mwrapper\u001b[0;34m(*args, **kwargs)\u001b[0m\n\u001b[1;32m    101\u001b[0m             \u001b[0;32mif\u001b[0m \u001b[0mfunc\u001b[0m\u001b[0;34m.\u001b[0m\u001b[0m__name__\u001b[0m \u001b[0;34m!=\u001b[0m \u001b[0;34m\"init\"\u001b[0m \u001b[0;32mor\u001b[0m \u001b[0mis_client_mode_enabled_by_default\u001b[0m\u001b[0;34m:\u001b[0m\u001b[0;34m\u001b[0m\u001b[0;34m\u001b[0m\u001b[0m\n\u001b[1;32m    102\u001b[0m                 \u001b[0;32mreturn\u001b[0m \u001b[0mgetattr\u001b[0m\u001b[0;34m(\u001b[0m\u001b[0mray\u001b[0m\u001b[0;34m,\u001b[0m \u001b[0mfunc\u001b[0m\u001b[0;34m.\u001b[0m\u001b[0m__name__\u001b[0m\u001b[0;34m)\u001b[0m\u001b[0;34m(\u001b[0m\u001b[0;34m*\u001b[0m\u001b[0margs\u001b[0m\u001b[0;34m,\u001b[0m \u001b[0;34m**\u001b[0m\u001b[0mkwargs\u001b[0m\u001b[0;34m)\u001b[0m\u001b[0;34m\u001b[0m\u001b[0;34m\u001b[0m\u001b[0m\n\u001b[0;32m--> 103\u001b[0;31m         \u001b[0;32mreturn\u001b[0m \u001b[0mfunc\u001b[0m\u001b[0;34m(\u001b[0m\u001b[0;34m*\u001b[0m\u001b[0margs\u001b[0m\u001b[0;34m,\u001b[0m \u001b[0;34m**\u001b[0m\u001b[0mkwargs\u001b[0m\u001b[0;34m)\u001b[0m\u001b[0;34m\u001b[0m\u001b[0;34m\u001b[0m\u001b[0m\n\u001b[0m\u001b[1;32m    104\u001b[0m \u001b[0;34m\u001b[0m\u001b[0m\n\u001b[1;32m    105\u001b[0m     \u001b[0;32mreturn\u001b[0m \u001b[0mwrapper\u001b[0m\u001b[0;34m\u001b[0m\u001b[0;34m\u001b[0m\u001b[0m\n",
            "\u001b[0;32m/usr/local/lib/python3.10/dist-packages/ray/_private/worker.py\u001b[0m in \u001b[0;36mget\u001b[0;34m(object_refs, timeout)\u001b[0m\n\u001b[1;32m   2563\u001b[0m                     \u001b[0;32mraise\u001b[0m \u001b[0mvalue\u001b[0m\u001b[0;34m.\u001b[0m\u001b[0mas_instanceof_cause\u001b[0m\u001b[0;34m(\u001b[0m\u001b[0;34m)\u001b[0m\u001b[0;34m\u001b[0m\u001b[0;34m\u001b[0m\u001b[0m\n\u001b[1;32m   2564\u001b[0m                 \u001b[0;32melse\u001b[0m\u001b[0;34m:\u001b[0m\u001b[0;34m\u001b[0m\u001b[0;34m\u001b[0m\u001b[0m\n\u001b[0;32m-> 2565\u001b[0;31m                     \u001b[0;32mraise\u001b[0m \u001b[0mvalue\u001b[0m\u001b[0;34m\u001b[0m\u001b[0;34m\u001b[0m\u001b[0m\n\u001b[0m\u001b[1;32m   2566\u001b[0m \u001b[0;34m\u001b[0m\u001b[0m\n\u001b[1;32m   2567\u001b[0m         \u001b[0;32mif\u001b[0m \u001b[0mis_individual_id\u001b[0m\u001b[0;34m:\u001b[0m\u001b[0;34m\u001b[0m\u001b[0;34m\u001b[0m\u001b[0m\n",
            "\u001b[0;31mRayActorError\u001b[0m: The actor died unexpectedly before finishing this task.\n\tclass_name: ClientActor\n\tactor_id: 1d100c02e3db58bf8c0e872b01000000\n\tpid: 33744\n\tnamespace: c60dc620-a165-438f-bb9a-3acac8c0a24d\n\tip: 172.28.0.12\nThe actor is dead because its worker process has died. Worker exit type: SYSTEM_ERROR Worker exit detail: Worker exits unexpectedly. Worker exits with an exit code None. Traceback (most recent call last):\n  File \"python/ray/_raylet.pyx\", line 2064, in ray._raylet.task_execution_handler\n  File \"python/ray/_raylet.pyx\", line 1921, in ray._raylet.execute_task_with_cancellation_handler\n  File \"/usr/local/lib/python3.10/dist-packages/ray/_private/function_manager.py\", line 574, in load_actor_class\n    actor_class = self._load_actor_class_from_gcs(\n  File \"/usr/local/lib/python3.10/dist-packages/ray/_private/function_manager.py\", line 669, in _load_actor_class_from_gcs\n    class_name = ensure_str(class_name)\n  File \"/usr/local/lib/python3.10/dist-packages/ray/_private/utils.py\", line 243, in ensure_str\n    assert isinstance(s, bytes)\nAssertionError\nAn unexpected internal error occurred while the worker was executing a task."
          ]
        }
      ]
    },
    {
      "cell_type": "code",
      "source": [],
      "metadata": {
        "id": "24kfDYQor8ga"
      },
      "execution_count": null,
      "outputs": []
    }
  ]
}
