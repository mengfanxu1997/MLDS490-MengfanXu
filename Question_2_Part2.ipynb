{
  "nbformat": 4,
  "nbformat_minor": 0,
  "metadata": {
    "colab": {
      "provenance": []
    },
    "kernelspec": {
      "name": "python3",
      "display_name": "Python 3"
    },
    "language_info": {
      "name": "python"
    },
    "accelerator": "TPU"
  },
  "cells": [
    {
      "cell_type": "code",
      "execution_count": 1,
      "metadata": {
        "id": "6TXUXj4K1Lsf"
      },
      "outputs": [],
      "source": [
        "import torch\n",
        "import torch.optim as optim\n",
        "import torch.nn as nn\n",
        "import torch.nn.functional as F\n",
        "import matplotlib.pyplot as plt\n",
        "import gym\n",
        "import numpy as np"
      ]
    },
    {
      "cell_type": "code",
      "source": [
        "device = torch.device(\"cuda\" if torch.cuda.is_available() else \"cpu\")\n"
      ],
      "metadata": {
        "id": "VsyddUij1P_y"
      },
      "execution_count": 2,
      "outputs": []
    },
    {
      "cell_type": "code",
      "source": [
        "torch.cuda.is_available()"
      ],
      "metadata": {
        "colab": {
          "base_uri": "https://localhost:8080/"
        },
        "id": "MsJz_wXD1TJ8",
        "outputId": "bc771727-089e-4a2d-c06d-459bf5f55336"
      },
      "execution_count": 3,
      "outputs": [
        {
          "output_type": "execute_result",
          "data": {
            "text/plain": [
              "False"
            ]
          },
          "metadata": {},
          "execution_count": 3
        }
      ]
    },
    {
      "cell_type": "code",
      "source": [
        "class ActorNet(nn.Module):\n",
        "    def __init__(self, state_size, action_size, hidden_size):\n",
        "        super(ActorNet, self).__init__()\n",
        "        self.dense_layer_1 = nn.Linear(state_size, hidden_size)\n",
        "        self.dense_layer_2 = nn.Linear(hidden_size, hidden_size)\n",
        "        self.output = nn.Linear(hidden_size, action_size)\n",
        "\n",
        "    def forward(self, x):\n",
        "        x = torch.clamp(x,-1.1,1.1)\n",
        "        x = F.relu(self.dense_layer_1(x))\n",
        "        x = F.relu(self.dense_layer_2(x))\n",
        "        return F.softmax(self.output(x),dim=-1) #-1 to take softmax of last dimension\n",
        "\n",
        "class ValueFunctionNet(nn.Module):\n",
        "    def __init__(self, state_size, hidden_size):\n",
        "        super(ValueFunctionNet, self).__init__()\n",
        "        self.dense_layer_1 = nn.Linear(state_size, hidden_size)\n",
        "        self.dense_layer_2 = nn.Linear(hidden_size, hidden_size)\n",
        "        self.output = nn.Linear(hidden_size, 1)\n",
        "\n",
        "    def forward(self, x):\n",
        "        x = torch.clamp(x,-1.1,1.1)\n",
        "        x = F.relu(self.dense_layer_1(x))\n",
        "        x = F.relu(self.dense_layer_2(x))\n",
        "        return self.output(x)\n",
        "\n",
        "class PGAgent():\n",
        "    def __init__(self, state_size, action_size, hidden_size, actor_lr, vf_lr, discount ):\n",
        "        self.action_size = action_size\n",
        "        self.actor_net = ActorNet(state_size, action_size, hidden_size).to(device)\n",
        "        self.vf_net = ValueFunctionNet(state_size, hidden_size).to(device)\n",
        "        self.actor_optimizer = optim.Adam(self.actor_net.parameters(), lr=actor_lr)\n",
        "        self.vf_optimizer = optim.Adam(self.vf_net.parameters(), lr=vf_lr)\n",
        "        self.discount = discount\n",
        "\n",
        "    def select_action(self, state):\n",
        "        #get action probs then randomly sample from the probabilities\n",
        "        with torch.no_grad():\n",
        "            input_state = torch.FloatTensor(state).to(device)\n",
        "            action_probs = self.actor_net(input_state)\n",
        "            #detach and turn to numpy to use with np.random.choice()\n",
        "            action_probs = action_probs.detach().cpu().numpy()\n",
        "            action = np.random.choice(np.arange(self.action_size), p=action_probs)\n",
        "        return action\n",
        "\n",
        "    def train(self, state_list, action_list, reward_list):\n",
        "\n",
        "        #turn rewards into return\n",
        "        trajectory_len = len(reward_list)\n",
        "        return_array = np.zeros((trajectory_len,))\n",
        "        g_return = 0.\n",
        "        for i in range(trajectory_len-1,-1,-1):\n",
        "            g_return = reward_list[i] + self.discount*g_return\n",
        "            return_array[i] = g_return\n",
        "\n",
        "        # create tensors\n",
        "        state_t = torch.stack(state_list).to(device)\n",
        "        action_t = torch.LongTensor(action_list).to(device).view(-1,1)\n",
        "        return_t = torch.FloatTensor(return_array).to(device).view(-1,1)\n",
        "\n",
        "        # get value function estimates\n",
        "        vf_t = self.vf_net(state_t).to(device)\n",
        "        with torch.no_grad():\n",
        "            advantage_t = return_t - vf_t\n",
        "\n",
        "        # calculate actor loss\n",
        "        selected_action_prob = self.actor_net(state_t).gather(1, action_t)\n",
        "        # REINFORCE loss:\n",
        "        #actor_loss = torch.mean(-torch.log(selected_action_prob) * return_t)\n",
        "        # REINFORCE Baseline loss:\n",
        "        actor_loss = torch.mean(-torch.log(selected_action_prob) * advantage_t)\n",
        "        self.actor_optimizer.zero_grad()\n",
        "        actor_loss.backward()\n",
        "        self.actor_optimizer.step()\n",
        "\n",
        "        # calculate vf loss\n",
        "        loss_fn = nn.MSELoss()\n",
        "        vf_loss = loss_fn(vf_t, return_t)\n",
        "        self.vf_optimizer.zero_grad()\n",
        "        vf_loss.backward()\n",
        "        self.vf_optimizer.step()\n",
        "\n",
        "        return actor_loss.detach().cpu().numpy(), vf_loss.detach().cpu().numpy()"
      ],
      "metadata": {
        "id": "c4zTUIwO1UIG"
      },
      "execution_count": 4,
      "outputs": []
    },
    {
      "cell_type": "code",
      "source": [
        "!pip install gym[atari,accept-rom-license]==0.26.0\n",
        "!pip install ale-py\n",
        "import gym\n"
      ],
      "metadata": {
        "colab": {
          "base_uri": "https://localhost:8080/",
          "height": 985
        },
        "id": "sNvT8HVr29YY",
        "outputId": "8df876e6-419d-4096-f67b-d4040c9c4a2e"
      },
      "execution_count": 4,
      "outputs": [
        {
          "output_type": "stream",
          "name": "stdout",
          "text": [
            "Collecting gym[accept-rom-license,atari]==0.26.0\n",
            "  Downloading gym-0.26.0.tar.gz (710 kB)\n",
            "\u001b[2K     \u001b[90m━━━━━━━━━━━━━━━━━━━━━━━━━━━━━━━━━━━━━━━━\u001b[0m \u001b[32m710.3/710.3 kB\u001b[0m \u001b[31m10.6 MB/s\u001b[0m eta \u001b[36m0:00:00\u001b[0m\n",
            "\u001b[?25h  Installing build dependencies ... \u001b[?25l\u001b[?25hdone\n",
            "  Getting requirements to build wheel ... \u001b[?25l\u001b[?25hdone\n",
            "  Preparing metadata (pyproject.toml) ... \u001b[?25l\u001b[?25hdone\n",
            "Requirement already satisfied: numpy>=1.18.0 in /usr/local/lib/python3.10/dist-packages (from gym[accept-rom-license,atari]==0.26.0) (1.23.5)\n",
            "Requirement already satisfied: cloudpickle>=1.2.0 in /usr/local/lib/python3.10/dist-packages (from gym[accept-rom-license,atari]==0.26.0) (2.2.1)\n",
            "Requirement already satisfied: gym-notices>=0.0.4 in /usr/local/lib/python3.10/dist-packages (from gym[accept-rom-license,atari]==0.26.0) (0.0.8)\n",
            "Collecting autorom[accept-rom-license]~=0.4.2 (from gym[accept-rom-license,atari]==0.26.0)\n",
            "  Downloading AutoROM-0.4.2-py3-none-any.whl (16 kB)\n",
            "Collecting ale-py~=0.8.0 (from gym[accept-rom-license,atari]==0.26.0)\n",
            "  Downloading ale_py-0.8.1-cp310-cp310-manylinux_2_17_x86_64.manylinux2014_x86_64.whl (1.7 MB)\n",
            "\u001b[2K     \u001b[90m━━━━━━━━━━━━━━━━━━━━━━━━━━━━━━━━━━━━━━━━\u001b[0m \u001b[32m1.7/1.7 MB\u001b[0m \u001b[31m51.6 MB/s\u001b[0m eta \u001b[36m0:00:00\u001b[0m\n",
            "\u001b[?25hRequirement already satisfied: importlib-resources in /usr/local/lib/python3.10/dist-packages (from ale-py~=0.8.0->gym[accept-rom-license,atari]==0.26.0) (6.1.0)\n",
            "Requirement already satisfied: typing-extensions in /usr/local/lib/python3.10/dist-packages (from ale-py~=0.8.0->gym[accept-rom-license,atari]==0.26.0) (4.5.0)\n",
            "Requirement already satisfied: click in /usr/local/lib/python3.10/dist-packages (from autorom[accept-rom-license]~=0.4.2->gym[accept-rom-license,atari]==0.26.0) (8.1.7)\n",
            "Requirement already satisfied: requests in /usr/local/lib/python3.10/dist-packages (from autorom[accept-rom-license]~=0.4.2->gym[accept-rom-license,atari]==0.26.0) (2.31.0)\n",
            "Requirement already satisfied: tqdm in /usr/local/lib/python3.10/dist-packages (from autorom[accept-rom-license]~=0.4.2->gym[accept-rom-license,atari]==0.26.0) (4.66.1)\n",
            "Collecting AutoROM.accept-rom-license (from autorom[accept-rom-license]~=0.4.2->gym[accept-rom-license,atari]==0.26.0)\n",
            "  Downloading AutoROM.accept-rom-license-0.6.1.tar.gz (434 kB)\n",
            "\u001b[2K     \u001b[90m━━━━━━━━━━━━━━━━━━━━━━━━━━━━━━━━━━━━━━━━\u001b[0m \u001b[32m434.7/434.7 kB\u001b[0m \u001b[31m31.4 MB/s\u001b[0m eta \u001b[36m0:00:00\u001b[0m\n",
            "\u001b[?25h  Installing build dependencies ... \u001b[?25l\u001b[?25hdone\n",
            "  Getting requirements to build wheel ... \u001b[?25l\u001b[?25hdone\n",
            "  Preparing metadata (pyproject.toml) ... \u001b[?25l\u001b[?25hdone\n",
            "Requirement already satisfied: charset-normalizer<4,>=2 in /usr/local/lib/python3.10/dist-packages (from requests->autorom[accept-rom-license]~=0.4.2->gym[accept-rom-license,atari]==0.26.0) (3.3.0)\n",
            "Requirement already satisfied: idna<4,>=2.5 in /usr/local/lib/python3.10/dist-packages (from requests->autorom[accept-rom-license]~=0.4.2->gym[accept-rom-license,atari]==0.26.0) (3.4)\n",
            "Requirement already satisfied: urllib3<3,>=1.21.1 in /usr/local/lib/python3.10/dist-packages (from requests->autorom[accept-rom-license]~=0.4.2->gym[accept-rom-license,atari]==0.26.0) (2.0.7)\n",
            "Requirement already satisfied: certifi>=2017.4.17 in /usr/local/lib/python3.10/dist-packages (from requests->autorom[accept-rom-license]~=0.4.2->gym[accept-rom-license,atari]==0.26.0) (2023.7.22)\n",
            "Building wheels for collected packages: gym, AutoROM.accept-rom-license\n",
            "  Building wheel for gym (pyproject.toml) ... \u001b[?25l\u001b[?25hdone\n",
            "  Created wheel for gym: filename=gym-0.26.0-py3-none-any.whl size=826270 sha256=f6ed076d806899d7b4fd90b1de79ec0bdba617a0ee3720c7178c765dd7101743\n",
            "  Stored in directory: /root/.cache/pip/wheels/cd/da/7c/a034980e59e34687bfb6cfa3a5f3e9b389264a0c59519c59fa\n",
            "  Building wheel for AutoROM.accept-rom-license (pyproject.toml) ... \u001b[?25l\u001b[?25hdone\n",
            "  Created wheel for AutoROM.accept-rom-license: filename=AutoROM.accept_rom_license-0.6.1-py3-none-any.whl size=446660 sha256=0853a7c6f27ef7115549c56c1d55715f9e299c82ccc578dbe66989b0b136e1cc\n",
            "  Stored in directory: /root/.cache/pip/wheels/6b/1b/ef/a43ff1a2f1736d5711faa1ba4c1f61be1131b8899e6a057811\n",
            "Successfully built gym AutoROM.accept-rom-license\n",
            "Installing collected packages: gym, ale-py, AutoROM.accept-rom-license, autorom\n",
            "  Attempting uninstall: gym\n",
            "    Found existing installation: gym 0.25.2\n",
            "    Uninstalling gym-0.25.2:\n",
            "      Successfully uninstalled gym-0.25.2\n",
            "\u001b[31mERROR: pip's dependency resolver does not currently take into account all the packages that are installed. This behaviour is the source of the following dependency conflicts.\n",
            "dopamine-rl 4.0.6 requires gym<=0.25.2, but you have gym 0.26.0 which is incompatible.\u001b[0m\u001b[31m\n",
            "\u001b[0mSuccessfully installed AutoROM.accept-rom-license-0.6.1 ale-py-0.8.1 autorom-0.4.2 gym-0.26.0\n"
          ]
        },
        {
          "output_type": "display_data",
          "data": {
            "application/vnd.colab-display-data+json": {
              "pip_warning": {
                "packages": [
                  "gym"
                ]
              }
            }
          },
          "metadata": {}
        },
        {
          "output_type": "stream",
          "name": "stdout",
          "text": [
            "Requirement already satisfied: ale-py in /usr/local/lib/python3.10/dist-packages (0.8.1)\n",
            "Requirement already satisfied: numpy in /usr/local/lib/python3.10/dist-packages (from ale-py) (1.23.5)\n",
            "Requirement already satisfied: importlib-resources in /usr/local/lib/python3.10/dist-packages (from ale-py) (6.1.0)\n",
            "Requirement already satisfied: typing-extensions in /usr/local/lib/python3.10/dist-packages (from ale-py) (4.5.0)\n"
          ]
        }
      ]
    },
    {
      "cell_type": "code",
      "source": [
        "\n",
        "def preprocess(image):\n",
        "    image = image[35:195] # crop\n",
        "    image = image[::2,::2,0] # downsample by factor of 2\n",
        "    image[image == 144] = 0 # erase background (background type 1)\n",
        "    image[image == 109] = 0 # erase background (background type 2)\n",
        "    image[image != 0] = 1 # everything else (paddles, ball) just set to 1\n",
        "    return torch.from_numpy(image.astype(float).ravel()).float()\n"
      ],
      "metadata": {
        "id": "vqmgVnM746c_"
      },
      "execution_count": 5,
      "outputs": []
    },
    {
      "cell_type": "code",
      "source": [
        "# initialize environment\n",
        "import numpy as np\n",
        "env = gym.make('Pong-v0')\n",
        "action_size = env.action_space.n\n",
        "state_size = env.observation_space.shape[0]\n",
        "\n",
        "# set seed\n",
        "seed = 31\n",
        "env.seed(seed)\n",
        "np.random.seed(seed)\n",
        "torch.manual_seed(seed)\n",
        "if torch.cuda.is_available():\n",
        "    torch.cuda.manual_seed(seed)\n",
        "    torch.cuda.manual_seed_all(seed)\n",
        "\n",
        "# hyperparameters\n",
        "episodes = 1000 # run agent for this many episodes\n",
        "hidden_size = 256 # number of units in NN hidden layers\n",
        "actor_lr = 0.001 # learning rate for actor\n",
        "value_function_lr = 0.001 # learning rate for value function\n",
        "discount = 0.99 # discount factor gamma value\n",
        "reward_scale = 1 #scale reward by this amount\n",
        "\n",
        "# create agent\n",
        "agent = PGAgent(80*80, action_size, hidden_size, actor_lr, value_function_lr, discount)"
      ],
      "metadata": {
        "colab": {
          "base_uri": "https://localhost:8080/"
        },
        "id": "0CHheWwB1t5h",
        "outputId": "3eb2e0ab-5966-4b19-9265-c208af459054"
      },
      "execution_count": 6,
      "outputs": [
        {
          "output_type": "stream",
          "name": "stderr",
          "text": [
            "/usr/local/lib/python3.10/dist-packages/gym/envs/registration.py:555: UserWarning: \u001b[33mWARN: The environment Pong-v0 is out of date. You should consider upgrading to version `v4`.\u001b[0m\n",
            "  logger.warn(\n"
          ]
        }
      ]
    },
    {
      "cell_type": "code",
      "source": [
        "stats_rewards_list = [] # store stats for plotting in this\n",
        "stats_every = 10 # print stats every this many episodes\n",
        "total_reward = 0\n",
        "timesteps = 0\n",
        "episode_length = 0\n",
        "stats_actor_loss, stats_vf_loss = 0., 0.\n",
        "print(action_size)\n",
        "for ep in range(episodes):\n",
        "    state, info = env.reset()\n",
        "    state_list, action_list, reward_list = [], [], []\n",
        "\n",
        "    # stopping condition for training if agent reaches the amount of reward\n",
        "    if len(stats_rewards_list) > stats_every and np.mean(stats_rewards_list[-stats_every:],axis=0)[1] > 190:\n",
        "        print(\"Stopping at episode {} with average rewards of {} in last {} episodes\".\n",
        "            format(ep, np.mean(stats_rewards_list[-stats_every:],axis=0)[1], stats_every))\n",
        "        break\n",
        "\n",
        "    terminated = False\n",
        "    truncated = False\n",
        "    done = None\n",
        "    # train in each episode until episode is done\n",
        "    while (not terminated) and (not truncated):\n",
        "        timesteps += 1\n",
        "        #env.render()\n",
        "        # select an action from the agent's policy\n",
        "        state = preprocess(state)\n",
        "        action = agent.select_action(state)\n",
        "\n",
        "        next_state, reward, terminated, truncated, info = env.step(action)\n",
        "        total_reward += reward\n",
        "        episode_length += 1\n",
        "        # store agent's trajectory\n",
        "        state_list.append(state)\n",
        "        action_list.append(action)\n",
        "        reward_list.append(reward*reward_scale)\n",
        "\n",
        "\n",
        "        state = next_state\n",
        "\n",
        "\n",
        "    stats_actor_loss, stats_vf_loss = 0., 0.\n",
        "    actor_loss, vf_loss = agent.train(state_list, action_list, reward_list)\n",
        "    stats_rewards_list.append((ep, total_reward, episode_length))\n",
        "    stats_actor_loss += actor_loss\n",
        "    stats_vf_loss += vf_loss\n",
        "    total_reward = 0\n",
        "    episode_length = 0\n",
        "    if ep % stats_every == 0:\n",
        "        print('Episode: {}'.format(ep),\n",
        "            'Timestep: {}'.format(timesteps),\n",
        "            'Total reward: {:.1f}'.format(np.mean(stats_rewards_list[-stats_every:],axis=0)[1]),\n",
        "            'Episode length: {:.1f}'.format(np.mean(stats_rewards_list[-stats_every:],axis=0)[2]),\n",
        "            'Actor Loss: {:.4f}'.format(stats_actor_loss/stats_every),\n",
        "            'VF Loss: {:.4f}'.format(stats_vf_loss/stats_every))\n"
      ],
      "metadata": {
        "colab": {
          "base_uri": "https://localhost:8080/"
        },
        "id": "0_E08B6x1zxc",
        "outputId": "bdefaabb-eaf3-4780-d76b-7e7e2f3ae1af"
      },
      "execution_count": 7,
      "outputs": [
        {
          "output_type": "stream",
          "name": "stdout",
          "text": [
            "6\n",
            "Episode: 0 Timestep: 1063 Total reward: -21.0 Episode length: 1063.0 Actor Loss: -0.3351 VF Loss: 0.3767\n",
            "Episode: 10 Timestep: 13047 Total reward: -20.5 Episode length: 1198.4 Actor Loss: 0.0611 VF Loss: 0.0375\n",
            "Episode: 20 Timestep: 25324 Total reward: -20.1 Episode length: 1227.7 Actor Loss: 0.0044 VF Loss: 0.0906\n",
            "Episode: 30 Timestep: 39194 Total reward: -19.4 Episode length: 1387.0 Actor Loss: 0.0209 VF Loss: 0.0736\n",
            "Episode: 40 Timestep: 51590 Total reward: -20.3 Episode length: 1239.6 Actor Loss: -0.0605 VF Loss: 0.0317\n",
            "Episode: 50 Timestep: 64369 Total reward: -20.2 Episode length: 1277.9 Actor Loss: -0.0228 VF Loss: 0.0452\n",
            "Episode: 60 Timestep: 77066 Total reward: -19.8 Episode length: 1269.7 Actor Loss: -0.0078 VF Loss: 0.0298\n",
            "Episode: 70 Timestep: 91029 Total reward: -19.4 Episode length: 1396.3 Actor Loss: -0.1044 VF Loss: 0.0542\n",
            "Episode: 80 Timestep: 105038 Total reward: -19.6 Episode length: 1400.9 Actor Loss: 0.1126 VF Loss: 0.1028\n",
            "Episode: 90 Timestep: 118932 Total reward: -19.0 Episode length: 1389.4 Actor Loss: -0.0754 VF Loss: 0.0565\n",
            "Episode: 100 Timestep: 132621 Total reward: -19.7 Episode length: 1368.9 Actor Loss: -0.0467 VF Loss: 0.0536\n",
            "Episode: 110 Timestep: 147339 Total reward: -19.3 Episode length: 1471.8 Actor Loss: -0.0148 VF Loss: 0.0291\n",
            "Episode: 120 Timestep: 162644 Total reward: -19.0 Episode length: 1530.5 Actor Loss: -0.0357 VF Loss: 0.0360\n",
            "Episode: 130 Timestep: 178455 Total reward: -18.7 Episode length: 1581.1 Actor Loss: 0.0242 VF Loss: 0.0425\n",
            "Episode: 140 Timestep: 193722 Total reward: -19.1 Episode length: 1526.7 Actor Loss: 0.0109 VF Loss: 0.0430\n",
            "Episode: 150 Timestep: 210135 Total reward: -19.4 Episode length: 1641.3 Actor Loss: -0.0171 VF Loss: 0.0475\n",
            "Episode: 160 Timestep: 227738 Total reward: -18.8 Episode length: 1760.3 Actor Loss: 0.0140 VF Loss: 0.0286\n",
            "Episode: 170 Timestep: 248222 Total reward: -18.2 Episode length: 2048.4 Actor Loss: 0.0203 VF Loss: 0.0207\n",
            "Episode: 180 Timestep: 269174 Total reward: -18.6 Episode length: 2095.2 Actor Loss: 0.0203 VF Loss: 0.0300\n",
            "Episode: 190 Timestep: 292377 Total reward: -18.2 Episode length: 2320.3 Actor Loss: 0.0122 VF Loss: 0.0231\n",
            "Episode: 200 Timestep: 317260 Total reward: -19.2 Episode length: 2488.3 Actor Loss: -0.0061 VF Loss: 0.0139\n",
            "Episode: 210 Timestep: 342442 Total reward: -18.0 Episode length: 2518.2 Actor Loss: 0.0001 VF Loss: 0.0178\n",
            "Episode: 220 Timestep: 366511 Total reward: -19.0 Episode length: 2406.9 Actor Loss: -0.0035 VF Loss: 0.0136\n",
            "Episode: 230 Timestep: 391388 Total reward: -18.0 Episode length: 2487.7 Actor Loss: -0.0009 VF Loss: 0.0259\n",
            "Episode: 240 Timestep: 416711 Total reward: -18.0 Episode length: 2532.3 Actor Loss: -0.0006 VF Loss: 0.0152\n",
            "Episode: 250 Timestep: 441920 Total reward: -17.8 Episode length: 2520.9 Actor Loss: 0.0056 VF Loss: 0.0185\n",
            "Episode: 260 Timestep: 468237 Total reward: -18.0 Episode length: 2631.7 Actor Loss: -0.0027 VF Loss: 0.0178\n",
            "Episode: 270 Timestep: 494569 Total reward: -18.2 Episode length: 2633.2 Actor Loss: 0.0074 VF Loss: 0.0247\n",
            "Episode: 280 Timestep: 522451 Total reward: -17.1 Episode length: 2788.2 Actor Loss: -0.0061 VF Loss: 0.0233\n",
            "Episode: 290 Timestep: 551472 Total reward: -17.5 Episode length: 2902.1 Actor Loss: 0.0058 VF Loss: 0.0269\n",
            "Episode: 300 Timestep: 578176 Total reward: -18.1 Episode length: 2670.4 Actor Loss: -0.0005 VF Loss: 0.0125\n",
            "Episode: 310 Timestep: 605045 Total reward: -17.1 Episode length: 2686.9 Actor Loss: -0.0066 VF Loss: 0.0132\n",
            "Episode: 320 Timestep: 634897 Total reward: -17.5 Episode length: 2985.2 Actor Loss: 0.0024 VF Loss: 0.0242\n",
            "Episode: 330 Timestep: 663346 Total reward: -16.6 Episode length: 2844.9 Actor Loss: 0.0000 VF Loss: 0.0381\n",
            "Episode: 340 Timestep: 692815 Total reward: -16.1 Episode length: 2946.9 Actor Loss: 0.0012 VF Loss: 0.0186\n",
            "Episode: 350 Timestep: 721610 Total reward: -16.9 Episode length: 2879.5 Actor Loss: -0.0002 VF Loss: 0.0291\n",
            "Episode: 360 Timestep: 752972 Total reward: -15.0 Episode length: 3136.2 Actor Loss: 0.0056 VF Loss: 0.0365\n",
            "Episode: 370 Timestep: 786050 Total reward: -14.1 Episode length: 3307.8 Actor Loss: -0.0002 VF Loss: 0.0199\n",
            "Episode: 380 Timestep: 816642 Total reward: -16.4 Episode length: 3059.2 Actor Loss: -0.0097 VF Loss: 0.0302\n",
            "Episode: 390 Timestep: 848471 Total reward: -15.9 Episode length: 3182.9 Actor Loss: -0.0089 VF Loss: 0.0156\n",
            "Episode: 400 Timestep: 882703 Total reward: -13.8 Episode length: 3423.2 Actor Loss: -0.0091 VF Loss: 0.0283\n",
            "Episode: 410 Timestep: 915139 Total reward: -15.0 Episode length: 3243.6 Actor Loss: 0.0056 VF Loss: 0.0324\n",
            "Episode: 420 Timestep: 949177 Total reward: -13.7 Episode length: 3403.8 Actor Loss: -0.0084 VF Loss: 0.0283\n",
            "Episode: 430 Timestep: 984160 Total reward: -15.3 Episode length: 3498.3 Actor Loss: 0.0030 VF Loss: 0.0125\n",
            "Episode: 440 Timestep: 1017590 Total reward: -15.3 Episode length: 3343.0 Actor Loss: 0.0008 VF Loss: 0.0292\n",
            "Episode: 450 Timestep: 1051177 Total reward: -15.4 Episode length: 3358.7 Actor Loss: 0.0043 VF Loss: 0.0219\n",
            "Episode: 460 Timestep: 1083468 Total reward: -15.9 Episode length: 3229.1 Actor Loss: -0.0084 VF Loss: 0.0230\n",
            "Episode: 470 Timestep: 1113628 Total reward: -16.3 Episode length: 3016.0 Actor Loss: 0.0074 VF Loss: 0.0289\n",
            "Episode: 480 Timestep: 1146203 Total reward: -15.2 Episode length: 3257.5 Actor Loss: -0.0028 VF Loss: 0.0478\n",
            "Episode: 490 Timestep: 1178788 Total reward: -15.9 Episode length: 3258.5 Actor Loss: 0.0045 VF Loss: 0.0284\n",
            "Episode: 500 Timestep: 1211606 Total reward: -15.6 Episode length: 3281.8 Actor Loss: -0.0063 VF Loss: 0.0182\n",
            "Episode: 510 Timestep: 1244532 Total reward: -15.1 Episode length: 3292.6 Actor Loss: 0.0013 VF Loss: 0.0183\n",
            "Episode: 520 Timestep: 1276042 Total reward: -16.5 Episode length: 3151.0 Actor Loss: 0.0043 VF Loss: 0.0251\n",
            "Episode: 530 Timestep: 1311241 Total reward: -15.1 Episode length: 3519.9 Actor Loss: -0.0040 VF Loss: 0.0101\n",
            "Episode: 540 Timestep: 1346257 Total reward: -15.6 Episode length: 3501.6 Actor Loss: 0.0028 VF Loss: 0.0137\n",
            "Episode: 550 Timestep: 1383091 Total reward: -16.8 Episode length: 3683.4 Actor Loss: -0.0027 VF Loss: 0.0229\n",
            "Episode: 560 Timestep: 1419810 Total reward: -16.4 Episode length: 3671.9 Actor Loss: -0.0002 VF Loss: 0.0251\n",
            "Episode: 570 Timestep: 1457736 Total reward: -16.5 Episode length: 3792.6 Actor Loss: -0.0004 VF Loss: 0.0190\n",
            "Episode: 580 Timestep: 1498914 Total reward: -16.5 Episode length: 4117.8 Actor Loss: 0.0035 VF Loss: 0.0150\n",
            "Episode: 590 Timestep: 1538828 Total reward: -15.2 Episode length: 3991.4 Actor Loss: 0.0027 VF Loss: 0.0151\n",
            "Episode: 600 Timestep: 1579694 Total reward: -14.7 Episode length: 4086.6 Actor Loss: 0.0011 VF Loss: 0.0142\n",
            "Episode: 610 Timestep: 1620071 Total reward: -16.5 Episode length: 4037.7 Actor Loss: 0.0019 VF Loss: 0.0229\n",
            "Episode: 620 Timestep: 1660689 Total reward: -17.3 Episode length: 4061.8 Actor Loss: -0.0017 VF Loss: 0.0115\n",
            "Episode: 630 Timestep: 1702488 Total reward: -17.3 Episode length: 4179.9 Actor Loss: 0.0026 VF Loss: 0.0178\n",
            "Episode: 640 Timestep: 1746308 Total reward: -16.8 Episode length: 4382.0 Actor Loss: 0.0005 VF Loss: 0.0129\n",
            "Episode: 650 Timestep: 1786891 Total reward: -16.2 Episode length: 4058.3 Actor Loss: 0.0031 VF Loss: 0.0240\n",
            "Episode: 660 Timestep: 1829209 Total reward: -16.4 Episode length: 4231.8 Actor Loss: 0.0007 VF Loss: 0.0157\n",
            "Episode: 670 Timestep: 1870542 Total reward: -16.0 Episode length: 4133.3 Actor Loss: 0.0016 VF Loss: 0.0177\n",
            "Episode: 680 Timestep: 1913887 Total reward: -15.7 Episode length: 4334.5 Actor Loss: -0.0008 VF Loss: 0.0223\n",
            "Episode: 690 Timestep: 1956091 Total reward: -16.1 Episode length: 4220.4 Actor Loss: 0.0023 VF Loss: 0.0166\n",
            "Episode: 700 Timestep: 1994753 Total reward: -16.6 Episode length: 3866.2 Actor Loss: -0.0024 VF Loss: 0.0245\n",
            "Episode: 710 Timestep: 2038340 Total reward: -15.5 Episode length: 4358.7 Actor Loss: -0.0010 VF Loss: 0.0207\n",
            "Episode: 720 Timestep: 2082149 Total reward: -14.5 Episode length: 4380.9 Actor Loss: -0.0021 VF Loss: 0.0247\n",
            "Episode: 730 Timestep: 2126692 Total reward: -14.3 Episode length: 4454.3 Actor Loss: -0.0007 VF Loss: 0.0282\n",
            "Episode: 740 Timestep: 2168948 Total reward: -16.6 Episode length: 4225.6 Actor Loss: -0.0005 VF Loss: 0.0111\n",
            "Episode: 750 Timestep: 2214562 Total reward: -15.4 Episode length: 4561.4 Actor Loss: 0.0003 VF Loss: 0.0214\n",
            "Episode: 760 Timestep: 2261919 Total reward: -15.4 Episode length: 4735.7 Actor Loss: -0.0015 VF Loss: 0.0126\n",
            "Episode: 770 Timestep: 2302731 Total reward: -16.9 Episode length: 4081.2 Actor Loss: -0.0021 VF Loss: 0.0122\n",
            "Episode: 780 Timestep: 2347853 Total reward: -15.4 Episode length: 4512.2 Actor Loss: -0.0007 VF Loss: 0.0165\n",
            "Episode: 790 Timestep: 2393488 Total reward: -14.1 Episode length: 4563.5 Actor Loss: -0.0007 VF Loss: 0.0171\n",
            "Episode: 800 Timestep: 2438479 Total reward: -14.6 Episode length: 4499.1 Actor Loss: 0.0004 VF Loss: 0.0209\n",
            "Episode: 810 Timestep: 2485614 Total reward: -14.7 Episode length: 4713.5 Actor Loss: 0.0013 VF Loss: 0.0182\n",
            "Episode: 820 Timestep: 2526821 Total reward: -16.3 Episode length: 4120.7 Actor Loss: -0.0021 VF Loss: 0.0147\n",
            "Episode: 830 Timestep: 2570790 Total reward: -15.9 Episode length: 4396.9 Actor Loss: 0.0005 VF Loss: 0.0164\n",
            "Episode: 840 Timestep: 2611241 Total reward: -17.1 Episode length: 4045.1 Actor Loss: -0.0008 VF Loss: 0.0187\n",
            "Episode: 850 Timestep: 2655588 Total reward: -15.3 Episode length: 4434.7 Actor Loss: -0.0005 VF Loss: 0.0178\n",
            "Episode: 860 Timestep: 2702862 Total reward: -15.8 Episode length: 4727.4 Actor Loss: -0.0000 VF Loss: 0.0139\n",
            "Episode: 870 Timestep: 2746650 Total reward: -15.6 Episode length: 4378.8 Actor Loss: 0.0004 VF Loss: 0.0151\n",
            "Episode: 880 Timestep: 2792764 Total reward: -15.9 Episode length: 4611.4 Actor Loss: 0.0003 VF Loss: 0.0141\n",
            "Episode: 890 Timestep: 2842371 Total reward: -14.1 Episode length: 4960.7 Actor Loss: 0.0002 VF Loss: 0.0120\n",
            "Episode: 900 Timestep: 2888999 Total reward: -14.3 Episode length: 4662.8 Actor Loss: 0.0003 VF Loss: 0.0129\n",
            "Episode: 910 Timestep: 2932118 Total reward: -15.4 Episode length: 4311.9 Actor Loss: -0.0005 VF Loss: 0.0137\n",
            "Episode: 920 Timestep: 2980756 Total reward: -14.7 Episode length: 4863.8 Actor Loss: -0.0004 VF Loss: 0.0205\n",
            "Episode: 930 Timestep: 3027175 Total reward: -15.2 Episode length: 4641.9 Actor Loss: 0.0014 VF Loss: 0.0209\n",
            "Episode: 940 Timestep: 3077809 Total reward: -12.6 Episode length: 5063.4 Actor Loss: 0.0001 VF Loss: 0.0173\n",
            "Episode: 950 Timestep: 3126805 Total reward: -15.5 Episode length: 4899.6 Actor Loss: -0.0001 VF Loss: 0.0110\n",
            "Episode: 960 Timestep: 3175654 Total reward: -14.9 Episode length: 4884.9 Actor Loss: 0.0002 VF Loss: 0.0147\n",
            "Episode: 970 Timestep: 3229412 Total reward: -13.3 Episode length: 5375.8 Actor Loss: -0.0002 VF Loss: 0.0104\n",
            "Episode: 980 Timestep: 3278481 Total reward: -16.4 Episode length: 4906.9 Actor Loss: 0.0004 VF Loss: 0.0134\n",
            "Episode: 990 Timestep: 3325303 Total reward: -15.2 Episode length: 4682.2 Actor Loss: -0.0002 VF Loss: 0.0111\n"
          ]
        }
      ]
    },
    {
      "cell_type": "code",
      "source": [],
      "metadata": {
        "id": "HV7uSscD27Eh"
      },
      "execution_count": null,
      "outputs": []
    },
    {
      "cell_type": "code",
      "source": [
        "# plot stats\n",
        "def get_running_stat(stat, stat_len):\n",
        "    cum_sum = np.cumsum(np.insert(stat, 0, 0))\n",
        "    return (cum_sum[stat_len:] - cum_sum[:-stat_len]) / stat_len\n",
        "\n",
        "episode, r, l = np.array(stats_rewards_list).T\n",
        "cum_r = get_running_stat(r, 10)\n",
        "cum_l = get_running_stat(l, 10)\n",
        "\n",
        "# plot rewards\n",
        "plt.plot(episode[-len(cum_r):], cum_r)\n",
        "plt.plot(episode, r, alpha=0.5)\n",
        "plt.xlabel('Episode')\n",
        "plt.ylabel('Episode Reward')"
      ],
      "metadata": {
        "colab": {
          "base_uri": "https://localhost:8080/",
          "height": 466
        },
        "id": "EfIxnXCY2Cnn",
        "outputId": "c03a8080-c230-4e1d-9692-06879e6b2b75"
      },
      "execution_count": 8,
      "outputs": [
        {
          "output_type": "execute_result",
          "data": {
            "text/plain": [
              "Text(0, 0.5, 'Episode Reward')"
            ]
          },
          "metadata": {},
          "execution_count": 8
        },
        {
          "output_type": "display_data",
          "data": {
            "text/plain": [
              "<Figure size 640x480 with 1 Axes>"
            ],
            "image/png": "[encoded data removed]"
          },
          "metadata": {}
        }
      ]
    },
    {
      "cell_type": "code",
      "source": [],
      "metadata": {
        "id": "1KS1QB4C2Iqv"
      },
      "execution_count": null,
      "outputs": []
    }
  ]
}