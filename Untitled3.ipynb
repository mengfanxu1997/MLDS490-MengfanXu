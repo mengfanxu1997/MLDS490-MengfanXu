{
  "nbformat": 4,
  "nbformat_minor": 0,
  "metadata": {
    "colab": {
      "provenance": [],
      "gpuType": "T4"
    },
    "kernelspec": {
      "name": "python3",
      "display_name": "Python 3"
    },
    "language_info": {
      "name": "python"
    },
    "accelerator": "GPU"
  },
  "cells": [
    {
      "cell_type": "code",
      "execution_count": 1,
      "metadata": {
        "id": "6TXUXj4K1Lsf"
      },
      "outputs": [],
      "source": [
        "import torch\n",
        "import torch.optim as optim\n",
        "import torch.nn as nn\n",
        "import torch.nn.functional as F\n",
        "import matplotlib.pyplot as plt\n",
        "import gym\n",
        "import numpy as np"
      ]
    },
    {
      "cell_type": "code",
      "source": [
        "device = torch.device(\"cuda\" if torch.cuda.is_available() else \"cpu\")\n"
      ],
      "metadata": {
        "id": "VsyddUij1P_y"
      },
      "execution_count": 2,
      "outputs": []
    },
    {
      "cell_type": "code",
      "source": [
        "torch.cuda.is_available()"
      ],
      "metadata": {
        "colab": {
          "base_uri": "https://localhost:8080/"
        },
        "id": "MsJz_wXD1TJ8",
        "outputId": "fc11d00c-e945-4847-b786-0cc9360cd8e4"
      },
      "execution_count": 3,
      "outputs": [
        {
          "output_type": "execute_result",
          "data": {
            "text/plain": [
              "True"
            ]
          },
          "metadata": {},
          "execution_count": 3
        }
      ]
    },
    {
      "cell_type": "code",
      "source": [
        "class ActorNet(nn.Module):\n",
        "    def __init__(self, state_size, action_size, hidden_size):\n",
        "        super(ActorNet, self).__init__()\n",
        "        self.dense_layer_1 = nn.Linear(state_size, hidden_size)\n",
        "        self.dense_layer_2 = nn.Linear(hidden_size, hidden_size)\n",
        "        self.output = nn.Linear(hidden_size, action_size)\n",
        "\n",
        "    def forward(self, x):\n",
        "        x = torch.clamp(x,-1.1,1.1)\n",
        "        x = F.relu(self.dense_layer_1(x))\n",
        "        x = F.relu(self.dense_layer_2(x))\n",
        "        return F.softmax(self.output(x),dim=-1) #-1 to take softmax of last dimension\n",
        "\n",
        "class ValueFunctionNet(nn.Module):\n",
        "    def __init__(self, state_size, hidden_size):\n",
        "        super(ValueFunctionNet, self).__init__()\n",
        "        self.dense_layer_1 = nn.Linear(state_size, hidden_size)\n",
        "        self.dense_layer_2 = nn.Linear(hidden_size, hidden_size)\n",
        "        self.output = nn.Linear(hidden_size, 1)\n",
        "\n",
        "    def forward(self, x):\n",
        "        x = torch.clamp(x,-1.1,1.1)\n",
        "        x = F.relu(self.dense_layer_1(x))\n",
        "        x = F.relu(self.dense_layer_2(x))\n",
        "        return self.output(x)\n",
        "\n",
        "class PGAgent():\n",
        "    def __init__(self, state_size, action_size, hidden_size, actor_lr, vf_lr, discount ):\n",
        "        self.action_size = action_size\n",
        "        self.actor_net = ActorNet(state_size, action_size, hidden_size).to(device)\n",
        "        self.vf_net = ValueFunctionNet(state_size, hidden_size).to(device)\n",
        "        self.actor_optimizer = optim.Adam(self.actor_net.parameters(), lr=actor_lr)\n",
        "        self.vf_optimizer = optim.Adam(self.vf_net.parameters(), lr=vf_lr)\n",
        "        self.discount = discount\n",
        "\n",
        "    def select_action(self, state):\n",
        "        #get action probs then randomly sample from the probabilities\n",
        "        with torch.no_grad():\n",
        "            input_state = torch.FloatTensor(state).to(device)\n",
        "            action_probs = self.actor_net(input_state)\n",
        "            #detach and turn to numpy to use with np.random.choice()\n",
        "            action_probs = action_probs.detach().cpu().numpy()\n",
        "            action = np.random.choice(np.arange(self.action_size), p=action_probs)\n",
        "        return action\n",
        "\n",
        "    def train(self, state_list, action_list, reward_list):\n",
        "\n",
        "        #turn rewards into return\n",
        "        trajectory_len = len(reward_list)\n",
        "        return_array = np.zeros((trajectory_len,))\n",
        "        g_return = 0.\n",
        "        for i in range(trajectory_len-1,-1,-1):\n",
        "            g_return = reward_list[i] + self.discount*g_return\n",
        "            return_array[i] = g_return\n",
        "\n",
        "        # create tensors\n",
        "        state_t = torch.FloatTensor(state_list).to(device)\n",
        "        action_t = torch.LongTensor(action_list).to(device).view(-1,1)\n",
        "        return_t = torch.FloatTensor(return_array).to(device).view(-1,1)\n",
        "\n",
        "        # get value function estimates\n",
        "        vf_t = self.vf_net(state_t).to(device)\n",
        "        with torch.no_grad():\n",
        "            advantage_t = return_t - vf_t\n",
        "\n",
        "        # calculate actor loss\n",
        "        selected_action_prob = self.actor_net(state_t).gather(1, action_t)\n",
        "        # REINFORCE loss:\n",
        "        #actor_loss = torch.mean(-torch.log(selected_action_prob) * return_t)\n",
        "        # REINFORCE Baseline loss:\n",
        "        actor_loss = torch.mean(-torch.log(selected_action_prob) * advantage_t)\n",
        "        self.actor_optimizer.zero_grad()\n",
        "        actor_loss.backward()\n",
        "        self.actor_optimizer.step()\n",
        "\n",
        "        # calculate vf loss\n",
        "        loss_fn = nn.MSELoss()\n",
        "        vf_loss = loss_fn(vf_t, return_t)\n",
        "        self.vf_optimizer.zero_grad()\n",
        "        vf_loss.backward()\n",
        "        self.vf_optimizer.step()\n",
        "\n",
        "        return actor_loss.detach().cpu().numpy(), vf_loss.detach().cpu().numpy()"
      ],
      "metadata": {
        "id": "c4zTUIwO1UIG"
      },
      "execution_count": 4,
      "outputs": []
    },
    {
      "cell_type": "code",
      "source": [
        "# initialize environment\n",
        "env = gym.make('CartPole-v0')\n",
        "action_size = env.action_space.n\n",
        "state_size = env.observation_space.shape[0]\n",
        "\n",
        "# set seed\n",
        "seed = 31\n",
        "env.seed(seed)\n",
        "np.random.seed(seed)\n",
        "torch.manual_seed(seed)\n",
        "if torch.cuda.is_available():\n",
        "    torch.cuda.manual_seed(seed)\n",
        "    torch.cuda.manual_seed_all(seed)\n",
        "\n",
        "# hyperparameters\n",
        "episodes = 5000 # run agent for this many episodes\n",
        "hidden_size = 256 # number of units in NN hidden layers\n",
        "actor_lr = 0.002 # learning rate for actor\n",
        "value_function_lr = 0.002 # learning rate for value function\n",
        "discount = 0.95 # discount factor gamma value\n",
        "reward_scale = 0.01 #scale reward by this amount\n",
        "\n",
        "# create agent\n",
        "agent = PGAgent(state_size, action_size, hidden_size, actor_lr, value_function_lr, discount)"
      ],
      "metadata": {
        "colab": {
          "base_uri": "https://localhost:8080/"
        },
        "id": "0CHheWwB1t5h",
        "outputId": "afdf8772-a5cf-447b-8679-8a7a60031a0e"
      },
      "execution_count": 5,
      "outputs": [
        {
          "output_type": "stream",
          "name": "stderr",
          "text": [
            "/usr/local/lib/python3.10/dist-packages/gym/envs/registration.py:593: UserWarning: \u001b[33mWARN: The environment CartPole-v0 is out of date. You should consider upgrading to version `v1`.\u001b[0m\n",
            "  logger.warn(\n",
            "/usr/local/lib/python3.10/dist-packages/gym/core.py:317: DeprecationWarning: \u001b[33mWARN: Initializing wrapper in old step API which returns one bool instead of two. It is recommended to set `new_step_api=True` to use new step API. This will be the default behaviour in future.\u001b[0m\n",
            "  deprecation(\n",
            "/usr/local/lib/python3.10/dist-packages/gym/wrappers/step_api_compatibility.py:39: DeprecationWarning: \u001b[33mWARN: Initializing environment in old step API which returns one bool instead of two. It is recommended to set `new_step_api=True` to use new step API. This will be the default behaviour in future.\u001b[0m\n",
            "  deprecation(\n",
            "/usr/local/lib/python3.10/dist-packages/gym/core.py:256: DeprecationWarning: \u001b[33mWARN: Function `env.seed(seed)` is marked as deprecated and will be removed in the future. Please use `env.reset(seed=seed)` instead.\u001b[0m\n",
            "  deprecation(\n"
          ]
        }
      ]
    },
    {
      "cell_type": "code",
      "source": [
        "stats_rewards_list = [] # store stats for plotting in this\n",
        "stats_every = 10 # print stats every this many episodes\n",
        "total_reward = 0\n",
        "timesteps = 0\n",
        "episode_length = 0\n",
        "stats_actor_loss, stats_vf_loss = 0., 0.\n",
        "\n",
        "for ep in range(episodes):\n",
        "    state = env.reset()\n",
        "    state_list, action_list, reward_list = [], [], []\n",
        "\n",
        "    # stopping condition for training if agent reaches the amount of reward\n",
        "    if len(stats_rewards_list) > stats_every and np.mean(stats_rewards_list[-stats_every:],axis=0)[1] > 190:\n",
        "        print(\"Stopping at episode {} with average rewards of {} in last {} episodes\".\n",
        "            format(ep, np.mean(stats_rewards_list[-stats_every:],axis=0)[1], stats_every))\n",
        "        break\n",
        "\n",
        "    # train in each episode until episode is done\n",
        "    while True:\n",
        "        timesteps += 1\n",
        "        #env.render()\n",
        "        # select an action from the agent's policy\n",
        "        action = agent.select_action(state)\n",
        "\n",
        "        # enter action into the env\n",
        "        next_state, reward, done, _ = env.step(action)\n",
        "        total_reward += reward\n",
        "        episode_length += 1\n",
        "        # store agent's trajectory\n",
        "        state_list.append(state)\n",
        "        action_list.append(action)\n",
        "        reward_list.append(reward*reward_scale)\n",
        "\n",
        "        # end episode early\n",
        "        if total_reward < -250:\n",
        "            done = 1\n",
        "\n",
        "        if done:\n",
        "            actor_loss, vf_loss = agent.train(state_list, action_list, reward_list)\n",
        "            stats_rewards_list.append((ep, total_reward, episode_length))\n",
        "            stats_actor_loss += actor_loss\n",
        "            stats_vf_loss += vf_loss\n",
        "            total_reward = 0\n",
        "            episode_length = 0\n",
        "            if ep % stats_every == 0:\n",
        "                print('Episode: {}'.format(ep),\n",
        "                    'Timestep: {}'.format(timesteps),\n",
        "                    'Total reward: {:.1f}'.format(np.mean(stats_rewards_list[-stats_every:],axis=0)[1]),\n",
        "                    'Episode length: {:.1f}'.format(np.mean(stats_rewards_list[-stats_every:],axis=0)[2]),\n",
        "                    'Actor Loss: {:.4f}'.format(stats_actor_loss/stats_every),\n",
        "                    'VF Loss: {:.4f}'.format(stats_vf_loss/stats_every))\n",
        "                stats_actor_loss, stats_vf_loss = 0., 0.\n",
        "            break\n",
        "\n",
        "        state = next_state"
      ],
      "metadata": {
        "colab": {
          "base_uri": "https://localhost:8080/"
        },
        "id": "0_E08B6x1zxc",
        "outputId": "4f76e4f7-b07c-4dcb-fa1f-efaceace0f85"
      },
      "execution_count": 6,
      "outputs": [
        {
          "output_type": "stream",
          "name": "stderr",
          "text": [
            "<ipython-input-4-1806c0b64b7c>:57: UserWarning: Creating a tensor from a list of numpy.ndarrays is extremely slow. Please consider converting the list to a single numpy.ndarray with numpy.array() before converting to a tensor. (Triggered internally at ../torch/csrc/utils/tensor_new.cpp:261.)\n",
            "  state_t = torch.FloatTensor(state_list).to(device)\n"
          ]
        },
        {
          "output_type": "stream",
          "name": "stdout",
          "text": [
            "Episode: 0 Timestep: 21 Total reward: 21.0 Episode length: 21.0 Actor Loss: 0.0173 VF Loss: 0.0063\n",
            "Episode: 10 Timestep: 180 Total reward: 15.9 Episode length: 15.9 Actor Loss: -0.0190 VF Loss: 0.0146\n",
            "Episode: 20 Timestep: 311 Total reward: 13.1 Episode length: 13.1 Actor Loss: 0.0142 VF Loss: 0.0034\n",
            "Episode: 30 Timestep: 450 Total reward: 13.9 Episode length: 13.9 Actor Loss: -0.0083 VF Loss: 0.0008\n",
            "Episode: 40 Timestep: 605 Total reward: 15.5 Episode length: 15.5 Actor Loss: 0.0059 VF Loss: 0.0009\n",
            "Episode: 50 Timestep: 808 Total reward: 20.3 Episode length: 20.3 Actor Loss: 0.0050 VF Loss: 0.0025\n",
            "Episode: 60 Timestep: 1153 Total reward: 34.5 Episode length: 34.5 Actor Loss: 0.0024 VF Loss: 0.0020\n",
            "Episode: 70 Timestep: 1482 Total reward: 32.9 Episode length: 32.9 Actor Loss: -0.0150 VF Loss: 0.0026\n",
            "Episode: 80 Timestep: 1863 Total reward: 38.1 Episode length: 38.1 Actor Loss: 0.0141 VF Loss: 0.0039\n",
            "Episode: 90 Timestep: 2519 Total reward: 65.6 Episode length: 65.6 Actor Loss: -0.0103 VF Loss: 0.0026\n",
            "Episode: 100 Timestep: 3534 Total reward: 101.5 Episode length: 101.5 Actor Loss: 0.0017 VF Loss: 0.0040\n",
            "Episode: 110 Timestep: 5283 Total reward: 174.9 Episode length: 174.9 Actor Loss: -0.0047 VF Loss: 0.0037\n",
            "Episode: 120 Timestep: 6950 Total reward: 166.7 Episode length: 166.7 Actor Loss: 0.0055 VF Loss: 0.0030\n",
            "Episode: 130 Timestep: 8892 Total reward: 194.2 Episode length: 194.2 Actor Loss: 0.0012 VF Loss: 0.0019\n",
            "Stopping at episode 131 with average rewards of 194.2 in last 10 episodes\n"
          ]
        }
      ]
    },
    {
      "cell_type": "code",
      "source": [
        "# plot stats\n",
        "def get_running_stat(stat, stat_len):\n",
        "    cum_sum = np.cumsum(np.insert(stat, 0, 0))\n",
        "    return (cum_sum[stat_len:] - cum_sum[:-stat_len]) / stat_len\n",
        "\n",
        "episode, r, l = np.array(stats_rewards_list).T\n",
        "cum_r = get_running_stat(r, 10)\n",
        "cum_l = get_running_stat(l, 10)\n",
        "\n",
        "# plot rewards\n",
        "plt.plot(episode[-len(cum_r):], cum_r)\n",
        "plt.plot(episode, r, alpha=0.5)\n",
        "plt.xlabel('Episode')\n",
        "plt.ylabel('Episode Reward')"
      ],
      "metadata": {
        "colab": {
          "base_uri": "https://localhost:8080/",
          "height": 466
        },
        "id": "EfIxnXCY2Cnn",
        "outputId": "69e3b3ad-8217-4131-f886-d59e24f1f620"
      },
      "execution_count": 7,
      "outputs": [
        {
          "output_type": "execute_result",
          "data": {
            "text/plain": [
              "Text(0, 0.5, 'Episode Reward')"
            ]
          },
          "metadata": {},
          "execution_count": 7
        },
        {
          "output_type": "display_data",
          "data": {
            "text/plain": [
              "<Figure size 640x480 with 1 Axes>"
            ],
            "image/png": "[encoded data removed]"
          },
          "metadata": {}
        }
      ]
    },
    {
      "cell_type": "code",
      "source": [],
      "metadata": {
        "id": "1KS1QB4C2Iqv"
      },
      "execution_count": null,
      "outputs": []
    }
  ]
}