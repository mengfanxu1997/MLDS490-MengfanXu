{
  "nbformat": 4,
  "nbformat_minor": 0,
  "metadata": {
    "colab": {
      "provenance": []
    },
    "kernelspec": {
      "name": "python3",
      "display_name": "Python 3"
    },
    "language_info": {
      "name": "python"
    }
  },
  "cells": [
    {
      "cell_type": "code",
      "source": [
        "from google.colab import drive\n",
        "drive.mount('/content/drive')\n",
        "\n",
        "\n",
        "\n",
        "#datasets = load_data(user_ids, path_to_data)\n",
        "#train_on_clients(datasets)"
      ],
      "metadata": {
        "id": "olW1gceFvD5l",
        "colab": {
          "base_uri": "https://localhost:8080/"
        },
        "outputId": "1e5c1c0a-0cfa-4b9b-b34a-f10ff9fa61a3"
      },
      "execution_count": 1,
      "outputs": [
        {
          "output_type": "stream",
          "name": "stdout",
          "text": [
            "Mounted at /content/drive\n"
          ]
        }
      ]
    },
    {
      "cell_type": "code",
      "source": [
        "\n",
        "\n",
        "import torch\n",
        "from torchvision import datasets, transforms\n",
        "from torch.utils.data import DataLoader, Subset\n",
        "import numpy as np\n",
        "from sklearn.model_selection import train_test_split"
      ],
      "metadata": {
        "id": "IBmIm4h0GbwX"
      },
      "execution_count": 2,
      "outputs": []
    },
    {
      "cell_type": "code",
      "source": [
        "path_to_data_X = 'drive/MyDrive/Colab Notebooks/train_X.npy'\n",
        "path_to_data_y = 'drive/MyDrive/Colab Notebooks/train_y.npy'\n",
        "path_to_data_test_X = 'drive/MyDrive/Colab Notebooks/test_X.npy'\n",
        "path_to_data_test_y = 'drive/MyDrive/Colab Notebooks/test_y.npy'\n",
        "datasets_X = np.load(path_to_data_X, allow_pickle=True)\n",
        "datasets_y = np.load(path_to_data_y, allow_pickle=True)\n",
        "test_X = np.load(path_to_data_test_X, allow_pickle=True)\n",
        "test_y = np.load(path_to_data_test_y, allow_pickle=True)"
      ],
      "metadata": {
        "id": "ASI0P0xWGehM"
      },
      "execution_count": 3,
      "outputs": []
    },
    {
      "cell_type": "code",
      "source": [
        "datasets = {}\n",
        "datasets['images'] = datasets_X\n",
        "datasets['labels'] = datasets_y\n",
        "test_datasets = {}\n",
        "test_datasets['images'] = test_X\n",
        "test_datasets['labels'] = test_y"
      ],
      "metadata": {
        "id": "tFw1dSdk8RvV"
      },
      "execution_count": 4,
      "outputs": []
    },
    {
      "cell_type": "code",
      "source": [
        "import torch.nn as nn\n",
        "import torch.nn.functional as F\n",
        "\n",
        "class SimpleNN(nn.Module):\n",
        "    def __init__(self,act):\n",
        "        super(SimpleNN, self).__init__()\n",
        "        self.fc1 = nn.Linear(28*28, 128)\n",
        "        if act == 'RELU':\n",
        "          self.relu = nn.ReLU()\n",
        "        elif act == 'sigmoid':\n",
        "          self.relu = nn.Sigmoid()\n",
        "        else:\n",
        "          self.relu = nn.Tanh()\n",
        "        self.fc2 = nn.Linear(128, 10)\n",
        "\n",
        "    def forward(self, x):\n",
        "        x = x.view(-1, 28*28)\n",
        "        x = self.relu(self.fc1(x))\n",
        "        x = self.fc2(x)\n",
        "        return F.log_softmax(x, dim=1)\n",
        "\n",
        "# Create a model instance\n",
        "# model = SimpleNN()\n"
      ],
      "metadata": {
        "id": "k3Z3u4Vc9CEJ"
      },
      "execution_count": 5,
      "outputs": []
    },
    {
      "cell_type": "code",
      "source": [
        "def iterate_minibatches(inputs, targets, batchsize, shuffle=False):\n",
        "    assert inputs.shape[0] == targets.shape[0]\n",
        "    if shuffle:\n",
        "        indices = np.arange(inputs.shape[0])\n",
        "        np.random.shuffle(indices)\n",
        "    for start_idx in range(0, inputs.shape[0] - batchsize + 1, batchsize):\n",
        "        if shuffle:\n",
        "            excerpt = indices[start_idx:start_idx + batchsize]\n",
        "        else:\n",
        "            excerpt = slice(start_idx, start_idx + batchsize)\n",
        "        yield inputs[excerpt], targets[excerpt]"
      ],
      "metadata": {
        "id": "ksOCV0P-QxSs"
      },
      "execution_count": 6,
      "outputs": []
    },
    {
      "cell_type": "code",
      "source": [
        "from sklearn.metrics import f1_score"
      ],
      "metadata": {
        "id": "5T6Lo7inzh2T"
      },
      "execution_count": 7,
      "outputs": []
    },
    {
      "cell_type": "code",
      "source": [
        "def evaluate_fitness(chromosome, datasets, test_datasets, num_epochs=20):\n",
        "    mini_batch_size, activation_function = chromosome\n",
        "    model = SimpleNN(activation_function)  # Define your model architecture here\n",
        "    optimizer = torch.optim.SGD(model.parameters(), lr=0.01)\n",
        "    criterion = nn.CrossEntropyLoss()\n",
        "\n",
        "    # Modify your train_loader to use the new mini_batch_size\n",
        "    #train_loader = DataLoader(train_dataset, batch_size=mini_batch_size, shuffle=True)\n",
        "\n",
        "    for epoch in range(num_epochs):\n",
        "        # Train your model for one epoch\n",
        "        # ...\n",
        "        models = []\n",
        "        tmp_loss = 0\n",
        "        tmp_accuracy = 0\n",
        "\n",
        "        data = torch.tensor(datasets['images'])\n",
        "        target = torch.tensor(datasets['labels']).type(torch.LongTensor)\n",
        "        for batch in iterate_minibatches(data, target, mini_batch_size, shuffle=True):\n",
        "      # Split batch to get batch data and labels\n",
        "          batch_data, batch_labels = batch\n",
        "\n",
        "        # Forward pass\n",
        "          outputs = model(batch_data)\n",
        "          loss = criterion(outputs, batch_labels)\n",
        "\n",
        "          #Backward pass and optimization\n",
        "          optimizer.zero_grad()  # Clear existing gradients\n",
        "          loss.backward()        # Compute gradients\n",
        "          optimizer.step()       # Update parameters\n",
        "\n",
        "    # Evaluate on validation set\n",
        "    model.eval()\n",
        "    predictions = []\n",
        "    true_labels = []\n",
        "    with torch.no_grad():\n",
        "        # Calculate F1 score on validation set\n",
        "        # ...\n",
        "        data = torch.tensor(test_datasets['images'])\n",
        "        target = torch.tensor(test_datasets['labels']).type(torch.LongTensor)\n",
        "        true_labels.extend(target.tolist())\n",
        "        output = model(data)\n",
        "        predictions.extend(torch.argmax(output,dim=1).tolist())\n",
        "        val_f1_score = f1_score(true_labels, predictions, average='macro')\n",
        "\n",
        "    return val_f1_score\n"
      ],
      "metadata": {
        "id": "8IpeIkzPGMZc"
      },
      "execution_count": null,
      "outputs": []
    },
    {
      "cell_type": "code",
      "source": [
        "def roulette_wheel_selection(population, fitness_scores):\n",
        "    total_fitness = sum(fitness_scores)\n",
        "    selection_probs = [f / total_fitness for f in fitness_scores]\n",
        "    selected_indices = np.random.choice(range(len(population)), size=len(population)//2, p=selection_probs)\n",
        "    return [population[i] for i in selected_indices]\n"
      ],
      "metadata": {
        "id": "UypE89lfN5k-"
      },
      "execution_count": null,
      "outputs": []
    },
    {
      "cell_type": "code",
      "source": [
        "def one_point_crossover(selected):\n",
        "    offspring = []\n",
        "    for i in range(0, len(selected), 2):\n",
        "        parent1, parent2 = selected[i], selected[i+1]\n",
        "        crossover_point = random.randint(1, len(parent1) - 1)  # Assuming len(parent) > 1\n",
        "        child1 = parent1[:crossover_point] + parent2[crossover_point:]\n",
        "        child2 = parent2[:crossover_point] + parent1[crossover_point:]\n",
        "        offspring.extend([child1, child2])\n",
        "    return offspring\n"
      ],
      "metadata": {
        "id": "a5kCd2LsN-Xm"
      },
      "execution_count": null,
      "outputs": []
    },
    {
      "cell_type": "code",
      "source": [
        "def mutate(offspring, mutation_rate):\n",
        "    for i in range(len(offspring)):\n",
        "        if random.random() < mutation_rate:\n",
        "            gene_to_mutate = random.choice([0, 1])  # Choose which gene to mutate\n",
        "            if gene_to_mutate == 0:  # Mutate mini_batch_size\n",
        "                offspring[i] = (random.randint(*batch_size_range), offspring[i][1])\n",
        "            else:  # Mutate activation_function\n",
        "                offspring[i] = (offspring[i][0], random.choice(activation_functions))\n",
        "    return offspring\n"
      ],
      "metadata": {
        "id": "XRZ3lppoOEKD"
      },
      "execution_count": null,
      "outputs": []
    },
    {
      "cell_type": "code",
      "source": [
        "def age_based_selection(old_population, offspring,datasets,test_datasets):\n",
        "    # Combine old population and offspring\n",
        "    combined_population = old_population + offspring\n",
        "\n",
        "    # Sort based on fitness (and possibly age)\n",
        "    combined_population.sort(key=lambda chromosome: evaluate_fitness(chromosome,datasets, test_datasets), reverse=True)\n",
        "\n",
        "    # Select the top N chromosomes for the next generation\n",
        "    new_population = combined_population[:len(old_population)]\n",
        "    return new_population\n"
      ],
      "metadata": {
        "id": "VWQE9aiPOGPC"
      },
      "execution_count": null,
      "outputs": []
    },
    {
      "cell_type": "code",
      "source": [
        "import random\n",
        "\n",
        "\n",
        "# Define the chromosome structure and initial parameters\n",
        "population_size = 100\n",
        "generations = 100\n",
        "mutation_rate = 0.1\n",
        "activation_functions = ['RELU', 'sigmoid', 'tanh']\n",
        "batch_size_range = (16, 1024)\n",
        "\n",
        "# Initialize population\n",
        "population = [(random.randint(*batch_size_range), random.choice(activation_functions)) for _ in range(population_size)]\n",
        "results = []\n",
        "avg_results = []\n",
        "\n",
        "for generation in range(generations):\n",
        "    # Evaluate fitness for each chromosome\n",
        "    fitness_scores = [evaluate_fitness(chromosome, datasets, test_datasets) for chromosome in population]\n",
        "    results.append(np.max(fitness_scores))\n",
        "    avg_results.append(np.mean(fitness_scores))\n",
        "\n",
        "    # Selection (Roulette Rule)\n",
        "    selected = roulette_wheel_selection(population, fitness_scores)\n",
        "\n",
        "    # Crossover (One-Point Crossover)\n",
        "    offspring = one_point_crossover(selected)\n",
        "\n",
        "    # Mutation\n",
        "    mutated_offspring = mutate(offspring, mutation_rate)\n",
        "\n",
        "    # Age-Based Selection\n",
        "    population = age_based_selection(population, mutated_offspring,datasets,test_datasets)\n",
        "\n",
        "\n",
        "\n",
        "# Find the best chromosome\n",
        "best_chromosome = max(population, key=evaluate_fitness)\n"
      ],
      "metadata": {
        "colab": {
          "base_uri": "https://localhost:8080/",
          "height": 391
        },
        "id": "_O9iGOBPGMlB",
        "outputId": "42a12506-fcca-45af-e70f-da19e1774dea"
      },
      "execution_count": null,
      "outputs": [
        {
          "output_type": "error",
          "ename": "KeyboardInterrupt",
          "evalue": "ignored",
          "traceback": [
            "\u001b[0;31m---------------------------------------------------------------------------\u001b[0m",
            "\u001b[0;31mKeyboardInterrupt\u001b[0m                         Traceback (most recent call last)",
            "\u001b[0;32m<ipython-input-15-8ff302e147af>\u001b[0m in \u001b[0;36m<cell line: 16>\u001b[0;34m()\u001b[0m\n\u001b[1;32m     30\u001b[0m \u001b[0;34m\u001b[0m\u001b[0m\n\u001b[1;32m     31\u001b[0m     \u001b[0;31m# Age-Based Selection\u001b[0m\u001b[0;34m\u001b[0m\u001b[0;34m\u001b[0m\u001b[0m\n\u001b[0;32m---> 32\u001b[0;31m     \u001b[0mpopulation\u001b[0m \u001b[0;34m=\u001b[0m \u001b[0mage_based_selection\u001b[0m\u001b[0;34m(\u001b[0m\u001b[0mpopulation\u001b[0m\u001b[0;34m,\u001b[0m \u001b[0mmutated_offspring\u001b[0m\u001b[0;34m,\u001b[0m\u001b[0mdatasets\u001b[0m\u001b[0;34m,\u001b[0m\u001b[0mtest_datasets\u001b[0m\u001b[0;34m)\u001b[0m\u001b[0;34m\u001b[0m\u001b[0;34m\u001b[0m\u001b[0m\n\u001b[0m\u001b[1;32m     33\u001b[0m \u001b[0;34m\u001b[0m\u001b[0m\n\u001b[1;32m     34\u001b[0m \u001b[0;34m\u001b[0m\u001b[0m\n",
            "\u001b[0;32m<ipython-input-14-2639731c2079>\u001b[0m in \u001b[0;36mage_based_selection\u001b[0;34m(old_population, offspring, datasets, test_datasets)\u001b[0m\n\u001b[1;32m      4\u001b[0m \u001b[0;34m\u001b[0m\u001b[0m\n\u001b[1;32m      5\u001b[0m     \u001b[0;31m# Sort based on fitness (and possibly age)\u001b[0m\u001b[0;34m\u001b[0m\u001b[0;34m\u001b[0m\u001b[0m\n\u001b[0;32m----> 6\u001b[0;31m     \u001b[0mcombined_population\u001b[0m\u001b[0;34m.\u001b[0m\u001b[0msort\u001b[0m\u001b[0;34m(\u001b[0m\u001b[0mkey\u001b[0m\u001b[0;34m=\u001b[0m\u001b[0;32mlambda\u001b[0m \u001b[0mchromosome\u001b[0m\u001b[0;34m:\u001b[0m \u001b[0mevaluate_fitness\u001b[0m\u001b[0;34m(\u001b[0m\u001b[0mchromosome\u001b[0m\u001b[0;34m,\u001b[0m\u001b[0mdatasets\u001b[0m\u001b[0;34m,\u001b[0m \u001b[0mtest_datasets\u001b[0m\u001b[0;34m)\u001b[0m\u001b[0;34m,\u001b[0m \u001b[0mreverse\u001b[0m\u001b[0;34m=\u001b[0m\u001b[0;32mTrue\u001b[0m\u001b[0;34m)\u001b[0m\u001b[0;34m\u001b[0m\u001b[0;34m\u001b[0m\u001b[0m\n\u001b[0m\u001b[1;32m      7\u001b[0m \u001b[0;34m\u001b[0m\u001b[0m\n\u001b[1;32m      8\u001b[0m     \u001b[0;31m# Select the top N chromosomes for the next generation\u001b[0m\u001b[0;34m\u001b[0m\u001b[0;34m\u001b[0m\u001b[0m\n",
            "\u001b[0;32m<ipython-input-14-2639731c2079>\u001b[0m in \u001b[0;36m<lambda>\u001b[0;34m(chromosome)\u001b[0m\n\u001b[1;32m      4\u001b[0m \u001b[0;34m\u001b[0m\u001b[0m\n\u001b[1;32m      5\u001b[0m     \u001b[0;31m# Sort based on fitness (and possibly age)\u001b[0m\u001b[0;34m\u001b[0m\u001b[0;34m\u001b[0m\u001b[0m\n\u001b[0;32m----> 6\u001b[0;31m     \u001b[0mcombined_population\u001b[0m\u001b[0;34m.\u001b[0m\u001b[0msort\u001b[0m\u001b[0;34m(\u001b[0m\u001b[0mkey\u001b[0m\u001b[0;34m=\u001b[0m\u001b[0;32mlambda\u001b[0m \u001b[0mchromosome\u001b[0m\u001b[0;34m:\u001b[0m \u001b[0mevaluate_fitness\u001b[0m\u001b[0;34m(\u001b[0m\u001b[0mchromosome\u001b[0m\u001b[0;34m,\u001b[0m\u001b[0mdatasets\u001b[0m\u001b[0;34m,\u001b[0m \u001b[0mtest_datasets\u001b[0m\u001b[0;34m)\u001b[0m\u001b[0;34m,\u001b[0m \u001b[0mreverse\u001b[0m\u001b[0;34m=\u001b[0m\u001b[0;32mTrue\u001b[0m\u001b[0;34m)\u001b[0m\u001b[0;34m\u001b[0m\u001b[0;34m\u001b[0m\u001b[0m\n\u001b[0m\u001b[1;32m      7\u001b[0m \u001b[0;34m\u001b[0m\u001b[0m\n\u001b[1;32m      8\u001b[0m     \u001b[0;31m# Select the top N chromosomes for the next generation\u001b[0m\u001b[0;34m\u001b[0m\u001b[0;34m\u001b[0m\u001b[0m\n",
            "\u001b[0;32m<ipython-input-10-1f34d73df2c2>\u001b[0m in \u001b[0;36mevaluate_fitness\u001b[0;34m(chromosome, datasets, test_datasets, num_epochs)\u001b[0m\n\u001b[1;32m     27\u001b[0m           \u001b[0;31m#Backward pass and optimization\u001b[0m\u001b[0;34m\u001b[0m\u001b[0;34m\u001b[0m\u001b[0m\n\u001b[1;32m     28\u001b[0m           \u001b[0moptimizer\u001b[0m\u001b[0;34m.\u001b[0m\u001b[0mzero_grad\u001b[0m\u001b[0;34m(\u001b[0m\u001b[0;34m)\u001b[0m  \u001b[0;31m# Clear existing gradients\u001b[0m\u001b[0;34m\u001b[0m\u001b[0;34m\u001b[0m\u001b[0m\n\u001b[0;32m---> 29\u001b[0;31m           \u001b[0mloss\u001b[0m\u001b[0;34m.\u001b[0m\u001b[0mbackward\u001b[0m\u001b[0;34m(\u001b[0m\u001b[0;34m)\u001b[0m        \u001b[0;31m# Compute gradients\u001b[0m\u001b[0;34m\u001b[0m\u001b[0;34m\u001b[0m\u001b[0m\n\u001b[0m\u001b[1;32m     30\u001b[0m           \u001b[0moptimizer\u001b[0m\u001b[0;34m.\u001b[0m\u001b[0mstep\u001b[0m\u001b[0;34m(\u001b[0m\u001b[0;34m)\u001b[0m       \u001b[0;31m# Update parameters\u001b[0m\u001b[0;34m\u001b[0m\u001b[0;34m\u001b[0m\u001b[0m\n\u001b[1;32m     31\u001b[0m \u001b[0;34m\u001b[0m\u001b[0m\n",
            "\u001b[0;32m/usr/local/lib/python3.10/dist-packages/torch/_tensor.py\u001b[0m in \u001b[0;36mbackward\u001b[0;34m(self, gradient, retain_graph, create_graph, inputs)\u001b[0m\n\u001b[1;32m    490\u001b[0m                 \u001b[0minputs\u001b[0m\u001b[0;34m=\u001b[0m\u001b[0minputs\u001b[0m\u001b[0;34m,\u001b[0m\u001b[0;34m\u001b[0m\u001b[0;34m\u001b[0m\u001b[0m\n\u001b[1;32m    491\u001b[0m             )\n\u001b[0;32m--> 492\u001b[0;31m         torch.autograd.backward(\n\u001b[0m\u001b[1;32m    493\u001b[0m             \u001b[0mself\u001b[0m\u001b[0;34m,\u001b[0m \u001b[0mgradient\u001b[0m\u001b[0;34m,\u001b[0m \u001b[0mretain_graph\u001b[0m\u001b[0;34m,\u001b[0m \u001b[0mcreate_graph\u001b[0m\u001b[0;34m,\u001b[0m \u001b[0minputs\u001b[0m\u001b[0;34m=\u001b[0m\u001b[0minputs\u001b[0m\u001b[0;34m\u001b[0m\u001b[0;34m\u001b[0m\u001b[0m\n\u001b[1;32m    494\u001b[0m         )\n",
            "\u001b[0;32m/usr/local/lib/python3.10/dist-packages/torch/autograd/__init__.py\u001b[0m in \u001b[0;36mbackward\u001b[0;34m(tensors, grad_tensors, retain_graph, create_graph, grad_variables, inputs)\u001b[0m\n\u001b[1;32m    249\u001b[0m     \u001b[0;31m# some Python versions print out the first line of a multi-line function\u001b[0m\u001b[0;34m\u001b[0m\u001b[0;34m\u001b[0m\u001b[0m\n\u001b[1;32m    250\u001b[0m     \u001b[0;31m# calls in the traceback and some print out the last line\u001b[0m\u001b[0;34m\u001b[0m\u001b[0;34m\u001b[0m\u001b[0m\n\u001b[0;32m--> 251\u001b[0;31m     Variable._execution_engine.run_backward(  # Calls into the C++ engine to run the backward pass\n\u001b[0m\u001b[1;32m    252\u001b[0m         \u001b[0mtensors\u001b[0m\u001b[0;34m,\u001b[0m\u001b[0;34m\u001b[0m\u001b[0;34m\u001b[0m\u001b[0m\n\u001b[1;32m    253\u001b[0m         \u001b[0mgrad_tensors_\u001b[0m\u001b[0;34m,\u001b[0m\u001b[0;34m\u001b[0m\u001b[0;34m\u001b[0m\u001b[0m\n",
            "\u001b[0;31mKeyboardInterrupt\u001b[0m: "
          ]
        }
      ]
    },
    {
      "cell_type": "code",
      "source": [
        "results"
      ],
      "metadata": {
        "colab": {
          "base_uri": "https://localhost:8080/"
        },
        "id": "L-ybLsv_ODUS",
        "outputId": "f50558a7-7ebe-473b-d759-d0288bc96753"
      },
      "execution_count": null,
      "outputs": [
        {
          "output_type": "execute_result",
          "data": {
            "text/plain": [
              "[0.8573359817479688,\n",
              " 0.8645237847002107,\n",
              " 0.8553008760239565,\n",
              " 0.8646092626200794,\n",
              " 0.865595465627057,\n",
              " 0.8597543722263603,\n",
              " 0.8665551729965368,\n",
              " 0.8628618253078676]"
            ]
          },
          "metadata": {},
          "execution_count": 18
        }
      ]
    },
    {
      "cell_type": "code",
      "source": [
        "import matplotlib.pyplot as plt\n",
        "import numpy as np\n",
        "\n",
        "xpoints = np.arange(len(results))\n",
        "\n",
        "plt.plot(xpoints, results, avg_results)\n",
        "plt.show()"
      ],
      "metadata": {
        "colab": {
          "base_uri": "https://localhost:8080/",
          "height": 430
        },
        "id": "ta8Rnzav4Mt0",
        "outputId": "e0d73a51-df36-41df-ad57-269ea4ec7fc0"
      },
      "execution_count": null,
      "outputs": [
        {
          "output_type": "display_data",
          "data": {
            "text/plain": [
              "<Figure size 640x480 with 1 Axes>"
            ],
            "image/png": "[encoded data removed]"
          },
          "metadata": {}
        }
      ]
    },
    {
      "cell_type": "code",
      "source": [
        "population[7]"
      ],
      "metadata": {
        "colab": {
          "base_uri": "https://localhost:8080/"
        },
        "id": "UEvOtwwB5FN2",
        "outputId": "4133b298-19be-4dec-cc2d-b14e14add187"
      },
      "execution_count": null,
      "outputs": [
        {
          "output_type": "execute_result",
          "data": {
            "text/plain": [
              "(50, 'RELU')"
            ]
          },
          "metadata": {},
          "execution_count": 21
        }
      ]
    },
    {
      "cell_type": "code",
      "source": [
        "\n",
        "def train_fitness(chromosome, datasets, test_datasets, num_epochs=200):\n",
        "    mini_batch_size, activation_function = chromosome\n",
        "    lists = ['RELU', 'sigmoid', 'tanh']\n",
        "    model = SimpleNN('RELU')  # Define your model architecture here\n",
        "    optimizer = torch.optim.SGD(model.parameters(), lr=0.01)\n",
        "    criterion = nn.CrossEntropyLoss()\n",
        "\n",
        "    # Modify your train_loader to use the new mini_batch_size\n",
        "    #train_loader = DataLoader(train_dataset, batch_size=mini_batch_size, shuffle=True)\n",
        "\n",
        "    f1 = []\n",
        "    for epoch in range(num_epochs):\n",
        "        # Train your model for one epoch\n",
        "        # ...\n",
        "        models = []\n",
        "        tmp_loss = 0\n",
        "        tmp_accuracy = 0\n",
        "        predictions = []\n",
        "        true_labels = []\n",
        "\n",
        "        data = torch.tensor(datasets['images'])\n",
        "        target = torch.tensor(datasets['labels']).type(torch.LongTensor)\n",
        "        for batch in iterate_minibatches(data, target, mini_batch_size, shuffle=True):\n",
        "      # Split batch to get batch data and labels\n",
        "          batch_data, batch_labels = batch\n",
        "\n",
        "        # Forward pass\n",
        "          outputs = model(batch_data)\n",
        "          loss = criterion(outputs, batch_labels)\n",
        "          pred = torch.argmax(outputs,dim=1)\n",
        "\n",
        "\n",
        "          #Backward pass and optimization\n",
        "          optimizer.zero_grad()  # Clear existing gradients\n",
        "          loss.backward()        # Compute gradients\n",
        "          optimizer.step()       # Update parameters\n",
        "          with torch.no_grad():\n",
        "            predictions.extend(torch.argmax(outputs,dim=1).tolist())\n",
        "            true_labels.extend(batch_labels.tolist())\n",
        "        f1.append(f1_score(true_labels, predictions, average='macro'))\n",
        "\n",
        "    # Evaluate on validation set\n",
        "    model.eval()\n",
        "    predictions = []\n",
        "    true_labels = []\n",
        "    with torch.no_grad():\n",
        "        # Calculate F1 score on validation set\n",
        "        # ...\n",
        "        data = torch.tensor(test_datasets['images'])\n",
        "        target = torch.tensor(test_datasets['labels']).type(torch.LongTensor)\n",
        "        true_labels.extend(target.tolist())\n",
        "        output = model(data)\n",
        "        predictions.extend(torch.argmax(output,dim=1).tolist())\n",
        "        val_f1_score = f1_score(true_labels, predictions, average='macro')\n",
        "\n",
        "    return f1, val_f1_score\n",
        "chromosome = (50,'RELU')\n",
        "f1, val_f1 = train_fitness(chromosome, datasets, test_datasets)"
      ],
      "metadata": {
        "id": "mmWfimYu4esS"
      },
      "execution_count": 8,
      "outputs": []
    },
    {
      "cell_type": "code",
      "source": [
        "import matplotlib.pyplot as plt\n",
        "import numpy as np\n",
        "\n",
        "xpoints = np.arange(len(f1))\n",
        "\n",
        "plt.plot(xpoints, f1)\n",
        "plt.show()"
      ],
      "metadata": {
        "colab": {
          "base_uri": "https://localhost:8080/",
          "height": 430
        },
        "id": "kYaZ86i45ezl",
        "outputId": "e650459e-56f3-442f-9415-71cfdf62e71d"
      },
      "execution_count": 9,
      "outputs": [
        {
          "output_type": "display_data",
          "data": {
            "text/plain": [
              "<Figure size 640x480 with 1 Axes>"
            ],
            "image/png": "[encoded data removed]"
          },
          "metadata": {}
        }
      ]
    },
    {
      "cell_type": "code",
      "source": [
        "val_f1"
      ],
      "metadata": {
        "id": "7vC_u7sr6Mm2",
        "colab": {
          "base_uri": "https://localhost:8080/"
        },
        "outputId": "9d858b01-66b9-4d62-fa82-ca4133c9687d"
      },
      "execution_count": 10,
      "outputs": [
        {
          "output_type": "execute_result",
          "data": {
            "text/plain": [
              "0.9328524736274432"
            ]
          },
          "metadata": {},
          "execution_count": 10
        }
      ]
    },
    {
      "cell_type": "code",
      "source": [],
      "metadata": {
        "id": "jViPZnxzmsbB"
      },
      "execution_count": null,
      "outputs": []
    }
  ]
}
