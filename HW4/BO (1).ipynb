{
  "nbformat": 4,
  "nbformat_minor": 0,
  "metadata": {
    "colab": {
      "provenance": []
    },
    "kernelspec": {
      "name": "python3",
      "display_name": "Python 3"
    },
    "language_info": {
      "name": "python"
    }
  },
  "cells": [
    {
      "cell_type": "code",
      "source": [
        "from google.colab import drive\n",
        "drive.mount('/content/drive')\n",
        "\n",
        "\n",
        "\n",
        "#datasets = load_data(user_ids, path_to_data)\n",
        "#train_on_clients(datasets)"
      ],
      "metadata": {
        "id": "olW1gceFvD5l",
        "colab": {
          "base_uri": "https://localhost:8080/"
        },
        "outputId": "e03a7207-e371-45be-84a2-225b749026fc"
      },
      "execution_count": 1,
      "outputs": [
        {
          "output_type": "stream",
          "name": "stdout",
          "text": [
            "Mounted at /content/drive\n"
          ]
        }
      ]
    },
    {
      "cell_type": "code",
      "source": [
        "\n",
        "\n",
        "import torch\n",
        "from torchvision import datasets, transforms\n",
        "from torch.utils.data import DataLoader, Subset\n",
        "import numpy as np\n",
        "from sklearn.model_selection import train_test_split"
      ],
      "metadata": {
        "id": "IBmIm4h0GbwX"
      },
      "execution_count": 2,
      "outputs": []
    },
    {
      "cell_type": "code",
      "source": [
        "path_to_data_X = 'drive/MyDrive/Colab Notebooks/train_X.npy'\n",
        "path_to_data_y = 'drive/MyDrive/Colab Notebooks/train_y.npy'\n",
        "path_to_data_test_X = 'drive/MyDrive/Colab Notebooks/test_X.npy'\n",
        "path_to_data_test_y = 'drive/MyDrive/Colab Notebooks/test_y.npy'\n",
        "datasets_X = np.load(path_to_data_X, allow_pickle=True)\n",
        "datasets_y = np.load(path_to_data_y, allow_pickle=True)\n",
        "test_X = np.load(path_to_data_test_X, allow_pickle=True)\n",
        "test_y = np.load(path_to_data_test_y, allow_pickle=True)"
      ],
      "metadata": {
        "id": "ASI0P0xWGehM"
      },
      "execution_count": 3,
      "outputs": []
    },
    {
      "cell_type": "code",
      "source": [
        "from sklearn.model_selection import train_test_split\n",
        "training_X, valid_X, training_y, valid_y = train_test_split(datasets_X, datasets_y, test_size=0.2, random_state=42)"
      ],
      "metadata": {
        "id": "--Tyn55tmtXJ"
      },
      "execution_count": 8,
      "outputs": []
    },
    {
      "cell_type": "code",
      "source": [
        "datasets = {}\n",
        "datasets['images'] = datasets_X\n",
        "datasets['labels'] = datasets_y\n",
        "test_datasets = {}\n",
        "test_datasets['images'] = test_X\n",
        "test_datasets['labels'] = test_y\n",
        "train_datasets = {}\n",
        "train_datasets['images'] = training_X\n",
        "train_datasets['labels'] = training_y\n",
        "val_datasets = {}\n",
        "val_datasets['images'] = valid_X\n",
        "val_datasets['labels'] = valid_y\n"
      ],
      "metadata": {
        "id": "tFw1dSdk8RvV"
      },
      "execution_count": 9,
      "outputs": []
    },
    {
      "cell_type": "code",
      "source": [
        "import torch.nn as nn\n",
        "import torch.nn.functional as F\n",
        "\n",
        "class SimpleNN(nn.Module):\n",
        "    def __init__(self,act):\n",
        "        super(SimpleNN, self).__init__()\n",
        "        self.fc1 = nn.Linear(28*28, 128)\n",
        "        if act == 'RELU':\n",
        "          self.relu = nn.ReLU()\n",
        "        elif act == 'sigmoid':\n",
        "          self.relu = nn.Sigmoid()\n",
        "        else:\n",
        "          self.relu = nn.Tanh()\n",
        "        self.fc2 = nn.Linear(128, 10)\n",
        "\n",
        "    def forward(self, x):\n",
        "        x = x.view(-1, 28*28)\n",
        "        x = self.relu(self.fc1(x))\n",
        "        x = self.fc2(x)\n",
        "        return F.log_softmax(x, dim=1)\n",
        "\n",
        "# Create a model instance\n",
        "# model = SimpleNN()\n"
      ],
      "metadata": {
        "id": "k3Z3u4Vc9CEJ"
      },
      "execution_count": 11,
      "outputs": []
    },
    {
      "cell_type": "code",
      "source": [
        "def iterate_minibatches(inputs, targets, batchsize, shuffle=False):\n",
        "    assert inputs.shape[0] == targets.shape[0]\n",
        "    if shuffle:\n",
        "        indices = np.arange(inputs.shape[0])\n",
        "        np.random.shuffle(indices)\n",
        "    for start_idx in range(0, inputs.shape[0] - batchsize + 1, batchsize):\n",
        "        if shuffle:\n",
        "            excerpt = indices[start_idx:start_idx + batchsize]\n",
        "        else:\n",
        "            excerpt = slice(start_idx, start_idx + batchsize)\n",
        "        yield inputs[excerpt], targets[excerpt]"
      ],
      "metadata": {
        "id": "ksOCV0P-QxSs"
      },
      "execution_count": 4,
      "outputs": []
    },
    {
      "cell_type": "code",
      "source": [
        "from sklearn.metrics import f1_score"
      ],
      "metadata": {
        "id": "5T6Lo7inzh2T"
      },
      "execution_count": 5,
      "outputs": []
    },
    {
      "cell_type": "code",
      "source": [
        "def evaluate_fitness(chromosome, datasets, test_datasets, num_epochs=20):\n",
        "    mini_batch_size, activation_function = chromosome\n",
        "    lists = ['RELU', 'sigmoid', 'tanh']\n",
        "    model = SimpleNN(lists[activation_function])  # Define your model architecture here\n",
        "    optimizer = torch.optim.SGD(model.parameters(), lr=0.01)\n",
        "    criterion = nn.CrossEntropyLoss()\n",
        "\n",
        "    # Modify your train_loader to use the new mini_batch_size\n",
        "    #train_loader = DataLoader(train_dataset, batch_size=mini_batch_size, shuffle=True)\n",
        "\n",
        "    for epoch in range(num_epochs):\n",
        "        # Train your model for one epoch\n",
        "        # ...\n",
        "        models = []\n",
        "        tmp_loss = 0\n",
        "        tmp_accuracy = 0\n",
        "\n",
        "        data = torch.tensor(datasets['images'])\n",
        "        target = torch.tensor(datasets['labels']).type(torch.LongTensor)\n",
        "        for batch in iterate_minibatches(data, target, mini_batch_size, shuffle=True):\n",
        "      # Split batch to get batch data and labels\n",
        "          batch_data, batch_labels = batch\n",
        "\n",
        "        # Forward pass\n",
        "          outputs = model(batch_data)\n",
        "          loss = criterion(outputs, batch_labels)\n",
        "\n",
        "          #Backward pass and optimization\n",
        "          optimizer.zero_grad()  # Clear existing gradients\n",
        "          loss.backward()        # Compute gradients\n",
        "          optimizer.step()       # Update parameters\n",
        "\n",
        "    # Evaluate on validation set\n",
        "    model.eval()\n",
        "    predictions = []\n",
        "    true_labels = []\n",
        "    with torch.no_grad():\n",
        "        # Calculate F1 score on validation set\n",
        "        # ...\n",
        "        data = torch.tensor(test_datasets['images'])\n",
        "        target = torch.tensor(test_datasets['labels']).type(torch.LongTensor)\n",
        "        true_labels.extend(target.tolist())\n",
        "        output = model(data)\n",
        "        predictions.extend(torch.argmax(output,dim=1).tolist())\n",
        "        val_f1_score = f1_score(true_labels, predictions, average='macro')\n",
        "\n",
        "    return val_f1_score\n"
      ],
      "metadata": {
        "id": "8IpeIkzPGMZc"
      },
      "execution_count": null,
      "outputs": []
    },
    {
      "cell_type": "code",
      "source": [
        "!pip install bayesian-optimization"
      ],
      "metadata": {
        "colab": {
          "base_uri": "https://localhost:8080/"
        },
        "id": "cvH5fzUkV9s6",
        "outputId": "8b202f19-75c7-47e2-c3f4-ae88d2c31161"
      },
      "execution_count": null,
      "outputs": [
        {
          "output_type": "stream",
          "name": "stdout",
          "text": [
            "Collecting bayesian-optimization\n",
            "  Downloading bayesian_optimization-1.4.3-py3-none-any.whl (18 kB)\n",
            "Requirement already satisfied: numpy>=1.9.0 in /usr/local/lib/python3.10/dist-packages (from bayesian-optimization) (1.23.5)\n",
            "Requirement already satisfied: scipy>=1.0.0 in /usr/local/lib/python3.10/dist-packages (from bayesian-optimization) (1.11.4)\n",
            "Requirement already satisfied: scikit-learn>=0.18.0 in /usr/local/lib/python3.10/dist-packages (from bayesian-optimization) (1.2.2)\n",
            "Collecting colorama>=0.4.6 (from bayesian-optimization)\n",
            "  Downloading colorama-0.4.6-py2.py3-none-any.whl (25 kB)\n",
            "Requirement already satisfied: joblib>=1.1.1 in /usr/local/lib/python3.10/dist-packages (from scikit-learn>=0.18.0->bayesian-optimization) (1.3.2)\n",
            "Requirement already satisfied: threadpoolctl>=2.0.0 in /usr/local/lib/python3.10/dist-packages (from scikit-learn>=0.18.0->bayesian-optimization) (3.2.0)\n",
            "Installing collected packages: colorama, bayesian-optimization\n",
            "Successfully installed bayesian-optimization-1.4.3 colorama-0.4.6\n"
          ]
        }
      ]
    },
    {
      "cell_type": "code",
      "source": [
        "from bayes_opt import BayesianOptimization\n",
        "from sklearn.metrics import f1_score\n",
        "\n",
        "def black_box_function(batch_size, activation_param):\n",
        "    # Convert continuous parameters to discrete as needed\n",
        "    chromosome = (int(batch_size),int(activation_param))\n",
        "\n",
        "    # Example: Using the activation_param in a custom activation function\n",
        "    # model = build_model(activation_param)  # Define your model-building function\n",
        "\n",
        "    # Train your model on the training set\n",
        "    # ...\n",
        "\n",
        "    # Evaluate on the validation set\n",
        "    f1 = evaluate_fitness(chromosome, train_datasets, val_datasets) # Assume evaluate() returns the F1 score\n",
        "    return f1\n"
      ],
      "metadata": {
        "id": "3INX1869XyPG"
      },
      "execution_count": null,
      "outputs": []
    },
    {
      "cell_type": "code",
      "source": [
        "pbounds = {\n",
        "    'batch_size': (16, 1024),  # Example range for batch size\n",
        "    'activation_param': (0,2)  # Example range for a custom activation parameter\n",
        "}"
      ],
      "metadata": {
        "id": "NtrEl_mhYYWO"
      },
      "execution_count": null,
      "outputs": []
    },
    {
      "cell_type": "code",
      "source": [
        "\n",
        "optimizer = BayesianOptimization(\n",
        "    f=black_box_function,\n",
        "    pbounds=pbounds,\n",
        "    random_state=1,\n",
        ")\n",
        "\n",
        "optimizer.maximize(\n",
        "    init_points=2,  # Number of random steps to start the optimization\n",
        "    n_iter=200,       # Number of optimization steps\n",
        ")\n",
        "\n",
        "print(optimizer.max)\n",
        "\n",
        "lists = ['RELU', 'sigmoid', 'tanh']\n",
        "best_params = optimizer.max['params']\n",
        "print(f\"Best batch size: {int(best_params['batch_size'])}\")\n",
        "print(f\"Best activation parameter: {lists[int(best_params['activation_param'])]}\")\n",
        "\n",
        "# Now, train your final model using these best parameters\n",
        "# ...\n",
        "chromosome = (int(best_params['batch_size']), int(best_params['activation_param']))\n",
        "evaluate_fitness(chromosome, datasets, test_datasets)"
      ],
      "metadata": {
        "colab": {
          "base_uri": "https://localhost:8080/"
        },
        "id": "-kP6se1vYiY6",
        "outputId": "07a7c8f7-6a76-464d-a4e8-d4ecfd38bd76"
      },
      "execution_count": null,
      "outputs": [
        {
          "output_type": "stream",
          "name": "stdout",
          "text": [
            "|   iter    |  target   | activa... | batch_... |\n",
            "-------------------------------------------------\n",
            "| \u001b[0m1        \u001b[0m | \u001b[0m0.2979   \u001b[0m | \u001b[0m0.834    \u001b[0m | \u001b[0m742.1    \u001b[0m |\n",
            "| \u001b[95m2        \u001b[0m | \u001b[95m0.4797   \u001b[0m | \u001b[95m0.0002287\u001b[0m | \u001b[95m320.8    \u001b[0m |\n",
            "| \u001b[95m3        \u001b[0m | \u001b[95m0.5615   \u001b[0m | \u001b[95m0.0879   \u001b[0m | \u001b[95m322.1    \u001b[0m |\n",
            "| \u001b[95m4        \u001b[0m | \u001b[95m0.5852   \u001b[0m | \u001b[95m0.06365  \u001b[0m | \u001b[95m324.3    \u001b[0m |\n",
            "| \u001b[0m5        \u001b[0m | \u001b[0m0.0732   \u001b[0m | \u001b[0m1.891    \u001b[0m | \u001b[0m329.5    \u001b[0m |\n",
            "| \u001b[0m6        \u001b[0m | \u001b[0m0.2246   \u001b[0m | \u001b[0m0.03646  \u001b[0m | \u001b[0m1.022e+03\u001b[0m |\n",
            "| \u001b[95m7        \u001b[0m | \u001b[95m0.667    \u001b[0m | \u001b[95m0.7913   \u001b[0m | \u001b[95m178.7    \u001b[0m |\n",
            "| \u001b[0m8        \u001b[0m | \u001b[0m0.1396   \u001b[0m | \u001b[0m1.154    \u001b[0m | \u001b[0m182.8    \u001b[0m |\n",
            "| \u001b[0m9        \u001b[0m | \u001b[0m0.6293   \u001b[0m | \u001b[0m0.782    \u001b[0m | \u001b[0m176.4    \u001b[0m |\n",
            "| \u001b[0m10       \u001b[0m | \u001b[0m0.06734  \u001b[0m | \u001b[0m1.721    \u001b[0m | \u001b[0m171.7    \u001b[0m |\n",
            "| \u001b[0m11       \u001b[0m | \u001b[0m0.1748   \u001b[0m | \u001b[0m1.96     \u001b[0m | \u001b[0m177.6    \u001b[0m |\n",
            "| \u001b[0m12       \u001b[0m | \u001b[0m0.6575   \u001b[0m | \u001b[0m0.5427   \u001b[0m | \u001b[0m179.1    \u001b[0m |\n",
            "| \u001b[95m13       \u001b[0m | \u001b[95m0.673    \u001b[0m | \u001b[95m0.4403   \u001b[0m | \u001b[95m177.7    \u001b[0m |\n",
            "| \u001b[0m14       \u001b[0m | \u001b[0m0.06324  \u001b[0m | \u001b[0m1.863    \u001b[0m | \u001b[0m323.0    \u001b[0m |\n",
            "| \u001b[0m15       \u001b[0m | \u001b[0m0.585    \u001b[0m | \u001b[0m0.1019   \u001b[0m | \u001b[0m175.5    \u001b[0m |\n",
            "| \u001b[0m16       \u001b[0m | \u001b[0m0.4683   \u001b[0m | \u001b[0m0.19     \u001b[0m | \u001b[0m326.0    \u001b[0m |\n",
            "| \u001b[0m17       \u001b[0m | \u001b[0m0.4892   \u001b[0m | \u001b[0m0.18     \u001b[0m | \u001b[0m317.4    \u001b[0m |\n",
            "| \u001b[0m18       \u001b[0m | \u001b[0m0.08476  \u001b[0m | \u001b[0m1.81     \u001b[0m | \u001b[0m315.8    \u001b[0m |\n",
            "| \u001b[0m19       \u001b[0m | \u001b[0m0.1787   \u001b[0m | \u001b[0m1.729    \u001b[0m | \u001b[0m175.3    \u001b[0m |\n",
            "| \u001b[95m20       \u001b[0m | \u001b[95m0.6991   \u001b[0m | \u001b[95m0.1122   \u001b[0m | \u001b[95m176.8    \u001b[0m |\n",
            "| \u001b[0m21       \u001b[0m | \u001b[0m0.2205   \u001b[0m | \u001b[0m0.439    \u001b[0m | \u001b[0m855.5    \u001b[0m |\n",
            "| \u001b[0m22       \u001b[0m | \u001b[0m0.02415  \u001b[0m | \u001b[0m1.021    \u001b[0m | \u001b[0m800.8    \u001b[0m |\n",
            "| \u001b[0m23       \u001b[0m | \u001b[0m0.02516  \u001b[0m | \u001b[0m1.688    \u001b[0m | \u001b[0m630.6    \u001b[0m |\n",
            "| \u001b[0m24       \u001b[0m | \u001b[0m0.4168   \u001b[0m | \u001b[0m0.9532   \u001b[0m | \u001b[0m449.0    \u001b[0m |\n",
            "| \u001b[0m25       \u001b[0m | \u001b[0m0.02951  \u001b[0m | \u001b[0m1.346    \u001b[0m | \u001b[0m452.1    \u001b[0m |\n",
            "| \u001b[0m26       \u001b[0m | \u001b[0m0.03185  \u001b[0m | \u001b[0m1.762    \u001b[0m | \u001b[0m446.4    \u001b[0m |\n",
            "| \u001b[0m27       \u001b[0m | \u001b[0m0.09351  \u001b[0m | \u001b[0m1.269    \u001b[0m | \u001b[0m318.8    \u001b[0m |\n",
            "| \u001b[0m28       \u001b[0m | \u001b[0m0.1846   \u001b[0m | \u001b[0m1.717    \u001b[0m | \u001b[0m180.1    \u001b[0m |\n",
            "| \u001b[0m29       \u001b[0m | \u001b[0m0.07105  \u001b[0m | \u001b[0m1.938    \u001b[0m | \u001b[0m416.6    \u001b[0m |\n",
            "| \u001b[0m30       \u001b[0m | \u001b[0m0.6897   \u001b[0m | \u001b[0m0.009209 \u001b[0m | \u001b[0m178.8    \u001b[0m |\n",
            "| \u001b[0m31       \u001b[0m | \u001b[0m0.06455  \u001b[0m | \u001b[0m1.386    \u001b[0m | \u001b[0m601.3    \u001b[0m |\n",
            "| \u001b[0m32       \u001b[0m | \u001b[0m0.3254   \u001b[0m | \u001b[0m1.554    \u001b[0m | \u001b[0m106.2    \u001b[0m |\n",
            "| \u001b[95m33       \u001b[0m | \u001b[95m0.7864   \u001b[0m | \u001b[95m0.9106   \u001b[0m | \u001b[95m101.7    \u001b[0m |\n",
            "| \u001b[0m34       \u001b[0m | \u001b[0m0.2773   \u001b[0m | \u001b[0m1.817    \u001b[0m | \u001b[0m100.6    \u001b[0m |\n",
            "| \u001b[95m35       \u001b[0m | \u001b[95m0.7906   \u001b[0m | \u001b[95m0.2318   \u001b[0m | \u001b[95m102.7    \u001b[0m |\n",
            "| \u001b[0m36       \u001b[0m | \u001b[0m0.1865   \u001b[0m | \u001b[0m1.59     \u001b[0m | \u001b[0m103.0    \u001b[0m |\n",
            "| \u001b[0m37       \u001b[0m | \u001b[0m0.7848   \u001b[0m | \u001b[0m0.1068   \u001b[0m | \u001b[0m101.8    \u001b[0m |\n",
            "| \u001b[0m38       \u001b[0m | \u001b[0m0.7871   \u001b[0m | \u001b[0m0.1156   \u001b[0m | \u001b[0m100.6    \u001b[0m |\n",
            "| \u001b[0m39       \u001b[0m | \u001b[0m0.7875   \u001b[0m | \u001b[0m0.2881   \u001b[0m | \u001b[0m99.34    \u001b[0m |\n",
            "| \u001b[0m40       \u001b[0m | \u001b[0m0.7482   \u001b[0m | \u001b[0m0.7481   \u001b[0m | \u001b[0m97.88    \u001b[0m |\n",
            "| \u001b[0m41       \u001b[0m | \u001b[0m0.7752   \u001b[0m | \u001b[0m0.3802   \u001b[0m | \u001b[0m95.96    \u001b[0m |\n",
            "| \u001b[0m42       \u001b[0m | \u001b[0m0.2029   \u001b[0m | \u001b[0m1.892    \u001b[0m | \u001b[0m96.31    \u001b[0m |\n",
            "| \u001b[0m43       \u001b[0m | \u001b[0m0.7751   \u001b[0m | \u001b[0m0.5398   \u001b[0m | \u001b[0m94.17    \u001b[0m |\n",
            "| \u001b[95m44       \u001b[0m | \u001b[95m0.7976   \u001b[0m | \u001b[95m0.02538  \u001b[0m | \u001b[95m92.87    \u001b[0m |\n",
            "| \u001b[0m45       \u001b[0m | \u001b[0m0.3268   \u001b[0m | \u001b[0m1.648    \u001b[0m | \u001b[0m92.49    \u001b[0m |\n",
            "| \u001b[0m46       \u001b[0m | \u001b[0m0.7865   \u001b[0m | \u001b[0m0.1359   \u001b[0m | \u001b[0m97.44    \u001b[0m |\n",
            "| \u001b[0m47       \u001b[0m | \u001b[0m0.7872   \u001b[0m | \u001b[0m0.0      \u001b[0m | \u001b[0m94.95    \u001b[0m |\n",
            "| \u001b[0m48       \u001b[0m | \u001b[0m0.7908   \u001b[0m | \u001b[0m0.02177  \u001b[0m | \u001b[0m90.96    \u001b[0m |\n",
            "| \u001b[0m49       \u001b[0m | \u001b[0m0.7877   \u001b[0m | \u001b[0m0.1349   \u001b[0m | \u001b[0m89.17    \u001b[0m |\n",
            "| \u001b[0m50       \u001b[0m | \u001b[0m0.2271   \u001b[0m | \u001b[0m1.981    \u001b[0m | \u001b[0m89.09    \u001b[0m |\n",
            "| \u001b[0m51       \u001b[0m | \u001b[0m0.7768   \u001b[0m | \u001b[0m0.1793   \u001b[0m | \u001b[0m87.06    \u001b[0m |\n",
            "| \u001b[0m52       \u001b[0m | \u001b[0m0.7786   \u001b[0m | \u001b[0m0.03791  \u001b[0m | \u001b[0m84.91    \u001b[0m |\n",
            "| \u001b[0m53       \u001b[0m | \u001b[0m0.4378   \u001b[0m | \u001b[0m1.603    \u001b[0m | \u001b[0m85.28    \u001b[0m |\n",
            "| \u001b[95m54       \u001b[0m | \u001b[95m0.8184   \u001b[0m | \u001b[95m0.2228   \u001b[0m | \u001b[95m83.44    \u001b[0m |\n",
            "| \u001b[0m55       \u001b[0m | \u001b[0m0.7749   \u001b[0m | \u001b[0m0.142    \u001b[0m | \u001b[0m81.36    \u001b[0m |\n",
            "| \u001b[0m56       \u001b[0m | \u001b[0m0.3465   \u001b[0m | \u001b[0m1.637    \u001b[0m | \u001b[0m82.13    \u001b[0m |\n",
            "| \u001b[0m57       \u001b[0m | \u001b[0m0.8153   \u001b[0m | \u001b[0m0.1308   \u001b[0m | \u001b[0m78.95    \u001b[0m |\n",
            "| \u001b[95m58       \u001b[0m | \u001b[95m0.8214   \u001b[0m | \u001b[95m0.7569   \u001b[0m | \u001b[95m77.34    \u001b[0m |\n",
            "| \u001b[0m59       \u001b[0m | \u001b[0m0.323    \u001b[0m | \u001b[0m1.998    \u001b[0m | \u001b[0m79.14    \u001b[0m |\n",
            "| \u001b[0m60       \u001b[0m | \u001b[0m0.8089   \u001b[0m | \u001b[0m0.1437   \u001b[0m | \u001b[0m75.64    \u001b[0m |\n",
            "| \u001b[0m61       \u001b[0m | \u001b[0m0.3441   \u001b[0m | \u001b[0m1.692    \u001b[0m | \u001b[0m75.14    \u001b[0m |\n",
            "| \u001b[0m62       \u001b[0m | \u001b[0m0.7934   \u001b[0m | \u001b[0m0.02614  \u001b[0m | \u001b[0m77.92    \u001b[0m |\n",
            "| \u001b[0m63       \u001b[0m | \u001b[0m0.04234  \u001b[0m | \u001b[0m1.317    \u001b[0m | \u001b[0m510.2    \u001b[0m |\n",
            "| \u001b[0m64       \u001b[0m | \u001b[0m0.1016   \u001b[0m | \u001b[0m1.392    \u001b[0m | \u001b[0m231.3    \u001b[0m |\n",
            "| \u001b[0m65       \u001b[0m | \u001b[0m0.4775   \u001b[0m | \u001b[0m0.2626   \u001b[0m | \u001b[0m265.1    \u001b[0m |\n",
            "| \u001b[0m66       \u001b[0m | \u001b[0m0.4936   \u001b[0m | \u001b[0m0.08809  \u001b[0m | \u001b[0m269.9    \u001b[0m |\n",
            "| \u001b[0m67       \u001b[0m | \u001b[0m0.07425  \u001b[0m | \u001b[0m1.174    \u001b[0m | \u001b[0m274.2    \u001b[0m |\n",
            "| \u001b[0m68       \u001b[0m | \u001b[0m0.1548   \u001b[0m | \u001b[0m1.782    \u001b[0m | \u001b[0m260.7    \u001b[0m |\n",
            "| \u001b[0m69       \u001b[0m | \u001b[0m0.02315  \u001b[0m | \u001b[0m1.801    \u001b[0m | \u001b[0m914.2    \u001b[0m |\n",
            "| \u001b[95m70       \u001b[0m | \u001b[95m0.838    \u001b[0m | \u001b[95m0.7701   \u001b[0m | \u001b[95m30.09    \u001b[0m |\n",
            "| \u001b[0m71       \u001b[0m | \u001b[0m0.6831   \u001b[0m | \u001b[0m1.516    \u001b[0m | \u001b[0m31.72    \u001b[0m |\n",
            "| \u001b[0m72       \u001b[0m | \u001b[0m0.7369   \u001b[0m | \u001b[0m1.968    \u001b[0m | \u001b[0m28.61    \u001b[0m |\n",
            "| \u001b[95m73       \u001b[0m | \u001b[95m0.8501   \u001b[0m | \u001b[95m0.1439   \u001b[0m | \u001b[95m28.39    \u001b[0m |\n",
            "| \u001b[95m74       \u001b[0m | \u001b[95m0.8503   \u001b[0m | \u001b[95m0.2904   \u001b[0m | \u001b[95m26.09    \u001b[0m |\n",
            "| \u001b[0m75       \u001b[0m | \u001b[0m0.7406   \u001b[0m | \u001b[0m1.843    \u001b[0m | \u001b[0m26.37    \u001b[0m |\n",
            "| \u001b[95m76       \u001b[0m | \u001b[95m0.8564   \u001b[0m | \u001b[95m0.9603   \u001b[0m | \u001b[95m24.11    \u001b[0m |\n",
            "| \u001b[0m77       \u001b[0m | \u001b[0m0.8527   \u001b[0m | \u001b[0m0.1316   \u001b[0m | \u001b[0m22.27    \u001b[0m |\n",
            "| \u001b[0m78       \u001b[0m | \u001b[0m0.7619   \u001b[0m | \u001b[0m1.951    \u001b[0m | \u001b[0m22.24    \u001b[0m |\n",
            "| \u001b[0m79       \u001b[0m | \u001b[0m0.7331   \u001b[0m | \u001b[0m0.03973  \u001b[0m | \u001b[0m19.86    \u001b[0m |\n",
            "| \u001b[0m80       \u001b[0m | \u001b[0m0.8143   \u001b[0m | \u001b[0m1.907    \u001b[0m | \u001b[0m17.62    \u001b[0m |\n",
            "| \u001b[95m81       \u001b[0m | \u001b[95m0.8682   \u001b[0m | \u001b[95m0.2569   \u001b[0m | \u001b[95m16.05    \u001b[0m |\n",
            "| \u001b[95m82       \u001b[0m | \u001b[95m0.8803   \u001b[0m | \u001b[95m0.467    \u001b[0m | \u001b[95m17.64    \u001b[0m |\n",
            "| \u001b[0m83       \u001b[0m | \u001b[0m0.8183   \u001b[0m | \u001b[0m1.846    \u001b[0m | \u001b[0m16.01    \u001b[0m |\n",
            "| \u001b[0m84       \u001b[0m | \u001b[0m0.8617   \u001b[0m | \u001b[0m0.01114  \u001b[0m | \u001b[0m35.25    \u001b[0m |\n",
            "| \u001b[0m85       \u001b[0m | \u001b[0m0.6284   \u001b[0m | \u001b[0m1.865    \u001b[0m | \u001b[0m36.42    \u001b[0m |\n",
            "| \u001b[0m86       \u001b[0m | \u001b[0m0.8359   \u001b[0m | \u001b[0m0.0      \u001b[0m | \u001b[0m37.87    \u001b[0m |\n",
            "| \u001b[0m87       \u001b[0m | \u001b[0m0.8402   \u001b[0m | \u001b[0m0.05742  \u001b[0m | \u001b[0m40.23    \u001b[0m |\n",
            "| \u001b[0m88       \u001b[0m | \u001b[0m0.6327   \u001b[0m | \u001b[0m1.909    \u001b[0m | \u001b[0m40.0     \u001b[0m |\n",
            "| \u001b[0m89       \u001b[0m | \u001b[0m0.8535   \u001b[0m | \u001b[0m0.1237   \u001b[0m | \u001b[0m42.8     \u001b[0m |\n",
            "| \u001b[0m90       \u001b[0m | \u001b[0m0.5798   \u001b[0m | \u001b[0m1.873    \u001b[0m | \u001b[0m44.72    \u001b[0m |\n",
            "| \u001b[0m91       \u001b[0m | \u001b[0m0.8155   \u001b[0m | \u001b[0m0.05287  \u001b[0m | \u001b[0m49.82    \u001b[0m |\n",
            "| \u001b[0m92       \u001b[0m | \u001b[0m0.436    \u001b[0m | \u001b[0m1.483    \u001b[0m | \u001b[0m51.89    \u001b[0m |\n",
            "| \u001b[0m93       \u001b[0m | \u001b[0m0.8253   \u001b[0m | \u001b[0m0.7991   \u001b[0m | \u001b[0m47.72    \u001b[0m |\n",
            "| \u001b[0m94       \u001b[0m | \u001b[0m0.4741   \u001b[0m | \u001b[0m1.947    \u001b[0m | \u001b[0m49.04    \u001b[0m |\n",
            "| \u001b[0m95       \u001b[0m | \u001b[0m0.8313   \u001b[0m | \u001b[0m0.01865  \u001b[0m | \u001b[0m45.52    \u001b[0m |\n",
            "| \u001b[0m96       \u001b[0m | \u001b[0m0.242    \u001b[0m | \u001b[0m0.7238   \u001b[0m | \u001b[0m699.4    \u001b[0m |\n",
            "| \u001b[0m97       \u001b[0m | \u001b[0m0.23     \u001b[0m | \u001b[0m0.1373   \u001b[0m | \u001b[0m957.5    \u001b[0m |\n",
            "| \u001b[0m98       \u001b[0m | \u001b[0m0.8497   \u001b[0m | \u001b[0m0.0      \u001b[0m | \u001b[0m33.25    \u001b[0m |\n",
            "| \u001b[0m99       \u001b[0m | \u001b[0m0.3138   \u001b[0m | \u001b[0m0.5632   \u001b[0m | \u001b[0m556.8    \u001b[0m |\n",
            "| \u001b[0m100      \u001b[0m | \u001b[0m0.4868   \u001b[0m | \u001b[0m0.6616   \u001b[0m | \u001b[0m371.1    \u001b[0m |\n",
            "| \u001b[0m101      \u001b[0m | \u001b[0m0.3412   \u001b[0m | \u001b[0m0.9779   \u001b[0m | \u001b[0m665.6    \u001b[0m |\n",
            "| \u001b[0m102      \u001b[0m | \u001b[0m0.2376   \u001b[0m | \u001b[0m1.827    \u001b[0m | \u001b[0m138.4    \u001b[0m |\n",
            "| \u001b[0m103      \u001b[0m | \u001b[0m0.03368  \u001b[0m | \u001b[0m1.25     \u001b[0m | \u001b[0m990.1    \u001b[0m |\n",
            "| \u001b[0m104      \u001b[0m | \u001b[0m0.03342  \u001b[0m | \u001b[0m1.555    \u001b[0m | \u001b[0m771.1    \u001b[0m |\n",
            "| \u001b[0m105      \u001b[0m | \u001b[0m0.2499   \u001b[0m | \u001b[0m0.1152   \u001b[0m | \u001b[0m884.5    \u001b[0m |\n",
            "| \u001b[0m106      \u001b[0m | \u001b[0m0.4192   \u001b[0m | \u001b[0m0.124    \u001b[0m | \u001b[0m481.1    \u001b[0m |\n",
            "| \u001b[0m107      \u001b[0m | \u001b[0m0.02322  \u001b[0m | \u001b[0m1.852    \u001b[0m | \u001b[0m828.4    \u001b[0m |\n",
            "| \u001b[0m108      \u001b[0m | \u001b[0m0.5715   \u001b[0m | \u001b[0m0.1143   \u001b[0m | \u001b[0m206.9    \u001b[0m |\n",
            "| \u001b[0m109      \u001b[0m | \u001b[0m0.1748   \u001b[0m | \u001b[0m1.898    \u001b[0m | \u001b[0m202.8    \u001b[0m |\n",
            "| \u001b[0m110      \u001b[0m | \u001b[0m0.5953   \u001b[0m | \u001b[0m0.4132   \u001b[0m | \u001b[0m211.1    \u001b[0m |\n",
            "| \u001b[0m111      \u001b[0m | \u001b[0m0.1167   \u001b[0m | \u001b[0m1.418    \u001b[0m | \u001b[0m215.1    \u001b[0m |\n",
            "| \u001b[0m112      \u001b[0m | \u001b[0m0.5352   \u001b[0m | \u001b[0m0.1776   \u001b[0m | \u001b[0m392.2    \u001b[0m |\n",
            "| \u001b[0m113      \u001b[0m | \u001b[0m0.03022  \u001b[0m | \u001b[0m1.923    \u001b[0m | \u001b[0m387.3    \u001b[0m |\n",
            "| \u001b[0m114      \u001b[0m | \u001b[0m0.4628   \u001b[0m | \u001b[0m0.03381  \u001b[0m | \u001b[0m396.7    \u001b[0m |\n",
            "| \u001b[0m115      \u001b[0m | \u001b[0m0.03356  \u001b[0m | \u001b[0m1.875    \u001b[0m | \u001b[0m533.8    \u001b[0m |\n",
            "| \u001b[0m116      \u001b[0m | \u001b[0m0.0489   \u001b[0m | \u001b[0m1.125    \u001b[0m | \u001b[0m352.5    \u001b[0m |\n",
            "| \u001b[0m117      \u001b[0m | \u001b[0m0.3924   \u001b[0m | \u001b[0m0.3755   \u001b[0m | \u001b[0m578.6    \u001b[0m |\n",
            "| \u001b[0m118      \u001b[0m | \u001b[0m0.02221  \u001b[0m | \u001b[0m1.929    \u001b[0m | \u001b[0m721.0    \u001b[0m |\n",
            "| \u001b[0m119      \u001b[0m | \u001b[0m0.2692   \u001b[0m | \u001b[0m0.3656   \u001b[0m | \u001b[0m936.0    \u001b[0m |\n",
            "| \u001b[0m120      \u001b[0m | \u001b[0m0.5788   \u001b[0m | \u001b[0m0.04615  \u001b[0m | \u001b[0m294.9    \u001b[0m |\n",
            "| \u001b[0m121      \u001b[0m | \u001b[0m0.08542  \u001b[0m | \u001b[0m1.743    \u001b[0m | \u001b[0m298.5    \u001b[0m |\n",
            "| \u001b[0m122      \u001b[0m | \u001b[0m0.6156   \u001b[0m | \u001b[0m0.3827   \u001b[0m | \u001b[0m290.9    \u001b[0m |\n",
            "| \u001b[0m123      \u001b[0m | \u001b[0m0.1095   \u001b[0m | \u001b[0m1.687    \u001b[0m | \u001b[0m287.4    \u001b[0m |\n",
            "| \u001b[0m124      \u001b[0m | \u001b[0m0.6495   \u001b[0m | \u001b[0m1.993    \u001b[0m | \u001b[0m34.07    \u001b[0m |\n",
            "| \u001b[0m125      \u001b[0m | \u001b[0m0.5741   \u001b[0m | \u001b[0m2.0      \u001b[0m | \u001b[0m364.7    \u001b[0m |\n",
            "| \u001b[0m126      \u001b[0m | \u001b[0m0.4518   \u001b[0m | \u001b[0m0.0      \u001b[0m | \u001b[0m361.3    \u001b[0m |\n",
            "| \u001b[0m127      \u001b[0m | \u001b[0m0.2451   \u001b[0m | \u001b[0m0.3663   \u001b[0m | \u001b[0m648.7    \u001b[0m |\n",
            "| \u001b[0m128      \u001b[0m | \u001b[0m0.7578   \u001b[0m | \u001b[0m1.986    \u001b[0m | \u001b[0m19.89    \u001b[0m |\n",
            "| \u001b[0m129      \u001b[0m | \u001b[0m0.03092  \u001b[0m | \u001b[0m1.353    \u001b[0m | \u001b[0m682.3    \u001b[0m |\n",
            "| \u001b[0m130      \u001b[0m | \u001b[0m0.7685   \u001b[0m | \u001b[0m0.2219   \u001b[0m | \u001b[0m121.1    \u001b[0m |\n",
            "| \u001b[0m131      \u001b[0m | \u001b[0m0.1366   \u001b[0m | \u001b[0m1.395    \u001b[0m | \u001b[0m123.4    \u001b[0m |\n",
            "| \u001b[0m132      \u001b[0m | \u001b[0m0.7486   \u001b[0m | \u001b[0m0.0      \u001b[0m | \u001b[0m118.8    \u001b[0m |\n",
            "| \u001b[0m133      \u001b[0m | \u001b[0m0.1981   \u001b[0m | \u001b[0m1.745    \u001b[0m | \u001b[0m119.3    \u001b[0m |\n",
            "| \u001b[0m134      \u001b[0m | \u001b[0m0.7734   \u001b[0m | \u001b[0m0.0      \u001b[0m | \u001b[0m115.7    \u001b[0m |\n",
            "| \u001b[0m135      \u001b[0m | \u001b[0m0.7656   \u001b[0m | \u001b[0m0.0      \u001b[0m | \u001b[0m113.1    \u001b[0m |\n",
            "| \u001b[0m136      \u001b[0m | \u001b[0m0.2145   \u001b[0m | \u001b[0m1.926    \u001b[0m | \u001b[0m114.3    \u001b[0m |\n",
            "| \u001b[0m137      \u001b[0m | \u001b[0m0.7643   \u001b[0m | \u001b[0m0.8809   \u001b[0m | \u001b[0m110.4    \u001b[0m |\n",
            "| \u001b[0m138      \u001b[0m | \u001b[0m0.6738   \u001b[0m | \u001b[0m0.04825  \u001b[0m | \u001b[0m154.5    \u001b[0m |\n",
            "| \u001b[0m139      \u001b[0m | \u001b[0m0.6566   \u001b[0m | \u001b[0m0.5234   \u001b[0m | \u001b[0m157.5    \u001b[0m |\n",
            "| \u001b[0m140      \u001b[0m | \u001b[0m0.2002   \u001b[0m | \u001b[0m1.628    \u001b[0m | \u001b[0m151.7    \u001b[0m |\n",
            "| \u001b[0m141      \u001b[0m | \u001b[0m0.6516   \u001b[0m | \u001b[0m0.06137  \u001b[0m | \u001b[0m160.8    \u001b[0m |\n",
            "| \u001b[0m142      \u001b[0m | \u001b[0m0.09911  \u001b[0m | \u001b[0m1.911    \u001b[0m | \u001b[0m163.6    \u001b[0m |\n",
            "| \u001b[0m143      \u001b[0m | \u001b[0m0.2293   \u001b[0m | \u001b[0m0.2764   \u001b[0m | \u001b[0m973.3    \u001b[0m |\n",
            "| \u001b[0m144      \u001b[0m | \u001b[0m0.1093   \u001b[0m | \u001b[0m1.906    \u001b[0m | \u001b[0m292.9    \u001b[0m |\n",
            "| \u001b[0m145      \u001b[0m | \u001b[0m0.02313  \u001b[0m | \u001b[0m1.818    \u001b[0m | \u001b[0m1.006e+03\u001b[0m |\n",
            "| \u001b[0m146      \u001b[0m | \u001b[0m0.4526   \u001b[0m | \u001b[0m0.1031   \u001b[0m | \u001b[0m367.3    \u001b[0m |\n",
            "| \u001b[0m147      \u001b[0m | \u001b[0m0.06626  \u001b[0m | \u001b[0m1.471    \u001b[0m | \u001b[0m376.7    \u001b[0m |\n",
            "| \u001b[0m148      \u001b[0m | \u001b[0m0.1907   \u001b[0m | \u001b[0m1.961    \u001b[0m | \u001b[0m208.9    \u001b[0m |\n",
            "| \u001b[0m149      \u001b[0m | \u001b[0m0.03914  \u001b[0m | \u001b[0m1.692    \u001b[0m | \u001b[0m494.4    \u001b[0m |\n",
            "| \u001b[0m150      \u001b[0m | \u001b[0m0.223    \u001b[0m | \u001b[0m1.981    \u001b[0m | \u001b[0m156.0    \u001b[0m |\n",
            "| \u001b[0m151      \u001b[0m | \u001b[0m0.6127   \u001b[0m | \u001b[0m1.652    \u001b[0m | \u001b[0m42.1     \u001b[0m |\n",
            "| \u001b[0m152      \u001b[0m | \u001b[0m0.04802  \u001b[0m | \u001b[0m1.883    \u001b[0m | \u001b[0m467.6    \u001b[0m |\n",
            "| \u001b[0m153      \u001b[0m | \u001b[0m0.03065  \u001b[0m | \u001b[0m1.907    \u001b[0m | \u001b[0m870.2    \u001b[0m |\n",
            "| \u001b[0m154      \u001b[0m | \u001b[0m0.7765   \u001b[0m | \u001b[0m0.0      \u001b[0m | \u001b[0m108.7    \u001b[0m |\n",
            "| \u001b[0m155      \u001b[0m | \u001b[0m0.03768  \u001b[0m | \u001b[0m1.849    \u001b[0m | \u001b[0m899.1    \u001b[0m |\n",
            "| \u001b[0m156      \u001b[0m | \u001b[0m0.8515   \u001b[0m | \u001b[0m0.005424 \u001b[0m | \u001b[0m31.26    \u001b[0m |\n",
            "| \u001b[0m157      \u001b[0m | \u001b[0m0.2637   \u001b[0m | \u001b[0m0.128    \u001b[0m | \u001b[0m756.1    \u001b[0m |\n",
            "| \u001b[0m158      \u001b[0m | \u001b[0m0.4605   \u001b[0m | \u001b[0m0.2622   \u001b[0m | \u001b[0m431.4    \u001b[0m |\n",
            "| \u001b[0m159      \u001b[0m | \u001b[0m0.6218   \u001b[0m | \u001b[0m0.2413   \u001b[0m | \u001b[0m246.0    \u001b[0m |\n",
            "| \u001b[0m160      \u001b[0m | \u001b[0m0.5876   \u001b[0m | \u001b[0m0.3588   \u001b[0m | \u001b[0m249.3    \u001b[0m |\n",
            "| \u001b[0m161      \u001b[0m | \u001b[0m0.1089   \u001b[0m | \u001b[0m1.139    \u001b[0m | \u001b[0m242.5    \u001b[0m |\n",
            "| \u001b[0m162      \u001b[0m | \u001b[0m0.09612  \u001b[0m | \u001b[0m1.935    \u001b[0m | \u001b[0m252.6    \u001b[0m |\n",
            "| \u001b[0m163      \u001b[0m | \u001b[0m0.247    \u001b[0m | \u001b[0m0.3478   \u001b[0m | \u001b[0m786.1    \u001b[0m |\n",
            "| \u001b[0m164      \u001b[0m | \u001b[0m0.304    \u001b[0m | \u001b[0m0.2554   \u001b[0m | \u001b[0m615.7    \u001b[0m |\n",
            "| \u001b[0m165      \u001b[0m | \u001b[0m0.07627  \u001b[0m | \u001b[0m1.923    \u001b[0m | \u001b[0m403.7    \u001b[0m |\n",
            "| \u001b[0m166      \u001b[0m | \u001b[0m0.2989   \u001b[0m | \u001b[0m0.4634   \u001b[0m | \u001b[0m842.3    \u001b[0m |\n",
            "| \u001b[0m167      \u001b[0m | \u001b[0m0.02415  \u001b[0m | \u001b[0m1.781    \u001b[0m | \u001b[0m814.6    \u001b[0m |\n",
            "| \u001b[0m168      \u001b[0m | \u001b[0m0.8292   \u001b[0m | \u001b[0m0.1542   \u001b[0m | \u001b[0m63.09    \u001b[0m |\n",
            "| \u001b[0m169      \u001b[0m | \u001b[0m0.381    \u001b[0m | \u001b[0m1.114    \u001b[0m | \u001b[0m64.97    \u001b[0m |\n",
            "| \u001b[0m170      \u001b[0m | \u001b[0m0.833    \u001b[0m | \u001b[0m0.2667   \u001b[0m | \u001b[0m61.02    \u001b[0m |\n",
            "| \u001b[0m171      \u001b[0m | \u001b[0m0.5277   \u001b[0m | \u001b[0m1.991    \u001b[0m | \u001b[0m61.86    \u001b[0m |\n",
            "| \u001b[0m172      \u001b[0m | \u001b[0m0.8295   \u001b[0m | \u001b[0m0.1465   \u001b[0m | \u001b[0m58.36    \u001b[0m |\n",
            "| \u001b[0m173      \u001b[0m | \u001b[0m0.3979   \u001b[0m | \u001b[0m1.992    \u001b[0m | \u001b[0m57.32    \u001b[0m |\n",
            "| \u001b[0m174      \u001b[0m | \u001b[0m0.02624  \u001b[0m | \u001b[0m1.825    \u001b[0m | \u001b[0m567.9    \u001b[0m |\n",
            "| \u001b[0m175      \u001b[0m | \u001b[0m0.04279  \u001b[0m | \u001b[0m1.935    \u001b[0m | \u001b[0m588.9    \u001b[0m |\n",
            "| \u001b[0m176      \u001b[0m | \u001b[0m0.3445   \u001b[0m | \u001b[0m0.3405   \u001b[0m | \u001b[0m545.9    \u001b[0m |\n",
            "| \u001b[0m177      \u001b[0m | \u001b[0m0.3717   \u001b[0m | \u001b[0m0.2529   \u001b[0m | \u001b[0m522.1    \u001b[0m |\n",
            "| \u001b[0m178      \u001b[0m | \u001b[0m0.5343   \u001b[0m | \u001b[0m0.1159   \u001b[0m | \u001b[0m341.1    \u001b[0m |\n",
            "| \u001b[0m179      \u001b[0m | \u001b[0m0.0261   \u001b[0m | \u001b[0m1.406    \u001b[0m | \u001b[0m337.6    \u001b[0m |\n",
            "| \u001b[0m180      \u001b[0m | \u001b[0m0.5889   \u001b[0m | \u001b[0m0.3109   \u001b[0m | \u001b[0m344.5    \u001b[0m |\n",
            "| \u001b[0m181      \u001b[0m | \u001b[0m0.8311   \u001b[0m | \u001b[0m0.02909  \u001b[0m | \u001b[0m59.64    \u001b[0m |\n",
            "| \u001b[0m182      \u001b[0m | \u001b[0m0.0289   \u001b[0m | \u001b[0m1.865    \u001b[0m | \u001b[0m947.0    \u001b[0m |\n",
            "| \u001b[0m183      \u001b[0m | \u001b[0m0.02227  \u001b[0m | \u001b[0m1.788    \u001b[0m | \u001b[0m925.6    \u001b[0m |\n",
            "| \u001b[0m184      \u001b[0m | \u001b[0m0.2813   \u001b[0m | \u001b[0m0.02834  \u001b[0m | \u001b[0m709.8    \u001b[0m |\n",
            "| \u001b[0m185      \u001b[0m | \u001b[0m0.3944   \u001b[0m | \u001b[0m2.0      \u001b[0m | \u001b[0m732.2    \u001b[0m |\n",
            "| \u001b[0m186      \u001b[0m | \u001b[0m0.4137   \u001b[0m | \u001b[0m0.0      \u001b[0m | \u001b[0m425.9    \u001b[0m |\n",
            "| \u001b[0m187      \u001b[0m | \u001b[0m0.02243  \u001b[0m | \u001b[0m1.955    \u001b[0m | \u001b[0m436.6    \u001b[0m |\n",
            "| \u001b[0m188      \u001b[0m | \u001b[0m0.6234   \u001b[0m | \u001b[0m0.1086   \u001b[0m | \u001b[0m192.8    \u001b[0m |\n",
            "| \u001b[0m189      \u001b[0m | \u001b[0m0.17     \u001b[0m | \u001b[0m1.77     \u001b[0m | \u001b[0m195.4    \u001b[0m |\n",
            "| \u001b[0m190      \u001b[0m | \u001b[0m0.6675   \u001b[0m | \u001b[0m0.03723  \u001b[0m | \u001b[0m189.8    \u001b[0m |\n",
            "| \u001b[0m191      \u001b[0m | \u001b[0m0.1463   \u001b[0m | \u001b[0m1.966    \u001b[0m | \u001b[0m191.2    \u001b[0m |\n",
            "| \u001b[0m192      \u001b[0m | \u001b[0m0.6648   \u001b[0m | \u001b[0m0.4429   \u001b[0m | \u001b[0m187.1    \u001b[0m |\n",
            "| \u001b[0m193      \u001b[0m | \u001b[0m0.8762   \u001b[0m | \u001b[0m0.0      \u001b[0m | \u001b[0m24.29    \u001b[0m |\n",
            "| \u001b[0m194      \u001b[0m | \u001b[0m0.6709   \u001b[0m | \u001b[0m2.0      \u001b[0m | \u001b[0m247.5    \u001b[0m |\n",
            "| \u001b[0m195      \u001b[0m | \u001b[0m0.02521  \u001b[0m | \u001b[0m1.924    \u001b[0m | \u001b[0m657.5    \u001b[0m |\n",
            "| \u001b[0m196      \u001b[0m | \u001b[0m0.3078   \u001b[0m | \u001b[0m0.1305   \u001b[0m | \u001b[0m639.8    \u001b[0m |\n",
            "| \u001b[0m197      \u001b[0m | \u001b[0m0.2195   \u001b[0m | \u001b[0m0.007798 \u001b[0m | \u001b[0m673.3    \u001b[0m |\n",
            "| \u001b[0m198      \u001b[0m | \u001b[0m0.02211  \u001b[0m | \u001b[0m1.897    \u001b[0m | \u001b[0m691.3    \u001b[0m |\n",
            "| \u001b[0m199      \u001b[0m | \u001b[0m0.5477   \u001b[0m | \u001b[0m0.7358   \u001b[0m | \u001b[0m307.4    \u001b[0m |\n",
            "| \u001b[0m200      \u001b[0m | \u001b[0m0.03053  \u001b[0m | \u001b[0m1.844    \u001b[0m | \u001b[0m981.2    \u001b[0m |\n",
            "| \u001b[0m201      \u001b[0m | \u001b[0m0.02206  \u001b[0m | \u001b[0m1.904    \u001b[0m | \u001b[0m965.5    \u001b[0m |\n",
            "| \u001b[0m202      \u001b[0m | \u001b[0m0.8304   \u001b[0m | \u001b[0m0.005205 \u001b[0m | \u001b[0m48.26    \u001b[0m |\n",
            "=================================================\n",
            "{'target': 0.8803194012097328, 'params': {'activation_param': 0.46704834631691305, 'batch_size': 17.6366745022601}}\n",
            "Best batch size: 17\n",
            "Best activation parameter: RELU\n"
          ]
        },
        {
          "output_type": "execute_result",
          "data": {
            "text/plain": [
              "0.8570409626457165"
            ]
          },
          "metadata": {},
          "execution_count": 17
        }
      ]
    },
    {
      "cell_type": "code",
      "source": [
        "\n",
        "def train_fitness(chromosome, datasets, test_datasets, num_epochs=200):\n",
        "    mini_batch_size, activation_function = chromosome\n",
        "    lists = ['RELU', 'sigmoid', 'tanh']\n",
        "    model = SimpleNN('RELU')  # Define your model architecture here\n",
        "    optimizer = torch.optim.SGD(model.parameters(), lr=0.01)\n",
        "    criterion = nn.CrossEntropyLoss()\n",
        "\n",
        "    # Modify your train_loader to use the new mini_batch_size\n",
        "    #train_loader = DataLoader(train_dataset, batch_size=mini_batch_size, shuffle=True)\n",
        "\n",
        "    f1 = []\n",
        "    for epoch in range(num_epochs):\n",
        "        # Train your model for one epoch\n",
        "        # ...\n",
        "        models = []\n",
        "        tmp_loss = 0\n",
        "        tmp_accuracy = 0\n",
        "        predictions = []\n",
        "        true_labels = []\n",
        "\n",
        "        data = torch.tensor(datasets['images'])\n",
        "        target = torch.tensor(datasets['labels']).type(torch.LongTensor)\n",
        "        for batch in iterate_minibatches(data, target, mini_batch_size, shuffle=True):\n",
        "      # Split batch to get batch data and labels\n",
        "          batch_data, batch_labels = batch\n",
        "\n",
        "        # Forward pass\n",
        "          outputs = model(batch_data)\n",
        "          loss = criterion(outputs, batch_labels)\n",
        "          pred = torch.argmax(outputs,dim=1)\n",
        "\n",
        "\n",
        "          #Backward pass and optimization\n",
        "          optimizer.zero_grad()  # Clear existing gradients\n",
        "          loss.backward()        # Compute gradients\n",
        "          optimizer.step()       # Update parameters\n",
        "          with torch.no_grad():\n",
        "            predictions.extend(torch.argmax(outputs,dim=1).tolist())\n",
        "            true_labels.extend(batch_labels.tolist())\n",
        "        f1.append(f1_score(true_labels, predictions, average='macro'))\n",
        "\n",
        "    # Evaluate on validation set\n",
        "    model.eval()\n",
        "    predictions = []\n",
        "    true_labels = []\n",
        "    with torch.no_grad():\n",
        "        # Calculate F1 score on validation set\n",
        "        # ...\n",
        "        data = torch.tensor(test_datasets['images'])\n",
        "        target = torch.tensor(test_datasets['labels']).type(torch.LongTensor)\n",
        "        true_labels.extend(target.tolist())\n",
        "        output = model(data)\n",
        "        predictions.extend(torch.argmax(output,dim=1).tolist())\n",
        "        val_f1_score = f1_score(true_labels, predictions, average='macro')\n",
        "\n",
        "    return f1,val_f1_score\n",
        "chromosome = (17,'RELU')\n",
        "f1, val_f1 = train_fitness(chromosome, datasets, test_datasets)"
      ],
      "metadata": {
        "id": "_O9iGOBPGMlB"
      },
      "execution_count": 12,
      "outputs": []
    },
    {
      "cell_type": "code",
      "source": [
        "import matplotlib.pyplot as plt\n",
        "import numpy as np\n",
        "\n",
        "xpoints = np.arange(len(f1))\n",
        "\n",
        "plt.plot(xpoints, f1)\n",
        "plt.show()"
      ],
      "metadata": {
        "id": "L-ybLsv_ODUS",
        "colab": {
          "base_uri": "https://localhost:8080/",
          "height": 430
        },
        "outputId": "a882828d-cd23-4a99-9648-b49380edb11b"
      },
      "execution_count": 13,
      "outputs": [
        {
          "output_type": "display_data",
          "data": {
            "text/plain": [
              "<Figure size 640x480 with 1 Axes>"
            ],
            "image/png": "[encoded data removed]"
          },
          "metadata": {}
        }
      ]
    },
    {
      "cell_type": "code",
      "source": [
        "val_f1"
      ],
      "metadata": {
        "id": "mmWfimYu4esS",
        "colab": {
          "base_uri": "https://localhost:8080/"
        },
        "outputId": "a55db0a3-37f4-476f-f42e-cb07fb9d2e48"
      },
      "execution_count": 14,
      "outputs": [
        {
          "output_type": "execute_result",
          "data": {
            "text/plain": [
              "0.9668201493109102"
            ]
          },
          "metadata": {},
          "execution_count": 14
        }
      ]
    },
    {
      "cell_type": "code",
      "source": [],
      "metadata": {
        "id": "fzaSixBGkgP1"
      },
      "execution_count": null,
      "outputs": []
    }
  ]
}