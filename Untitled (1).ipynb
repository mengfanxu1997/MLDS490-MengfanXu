{
 "cells": [
  {
   "cell_type": "code",
   "execution_count": 2,
   "id": "1e99aba2",
   "metadata": {},
   "outputs": [
    {
     "name": "stdout",
     "output_type": "stream",
     "text": [
      "Collecting gym\n",
      "  Downloading gym-0.26.2.tar.gz (721 kB)\n",
      "\u001b[K     |████████████████████████████████| 721 kB 4.1 MB/s eta 0:00:01\n",
      "\u001b[?25h  Installing build dependencies ... \u001b[?25ldone\n",
      "\u001b[?25h  Getting requirements to build wheel ... \u001b[?25ldone\n",
      "\u001b[?25h    Preparing wheel metadata ... \u001b[?25ldone\n",
      "\u001b[?25hRequirement already satisfied: cloudpickle>=1.2.0 in /Users/mengfanxu/opt/anaconda3/lib/python3.9/site-packages (from gym) (2.0.0)\n",
      "Requirement already satisfied: importlib-metadata>=4.8.0 in /Users/mengfanxu/opt/anaconda3/lib/python3.9/site-packages (from gym) (4.11.3)\n",
      "Requirement already satisfied: numpy>=1.18.0 in /Users/mengfanxu/opt/anaconda3/lib/python3.9/site-packages (from gym) (1.21.5)\n",
      "Collecting gym-notices>=0.0.4\n",
      "  Downloading gym_notices-0.0.8-py3-none-any.whl (3.0 kB)\n",
      "Requirement already satisfied: zipp>=0.5 in /Users/mengfanxu/opt/anaconda3/lib/python3.9/site-packages (from importlib-metadata>=4.8.0->gym) (3.7.0)\n",
      "Building wheels for collected packages: gym\n",
      "  Building wheel for gym (PEP 517) ... \u001b[?25ldone\n",
      "\u001b[?25h  Created wheel for gym: filename=gym-0.26.2-py3-none-any.whl size=827621 sha256=29b3d4ce7c35bace5ccc98bb686a418e50d0d4437c928da0839a48d1f5f31a52\n",
      "  Stored in directory: /Users/mengfanxu/Library/Caches/pip/wheels/af/2b/30/5e78b8b9599f2a2286a582b8da80594f654bf0e18d825a4405\n",
      "Successfully built gym\n",
      "Installing collected packages: gym-notices, gym\n",
      "Successfully installed gym-0.26.2 gym-notices-0.0.8\n"
     ]
    }
   ],
   "source": [
    "!pip install gym\n",
    "import gym"
   ]
  },
  {
   "cell_type": "code",
   "execution_count": 3,
   "id": "f15e6c6f",
   "metadata": {},
   "outputs": [],
   "source": [
    "import matplotlib.pyplot as plt\n",
    "import numpy as np\n",
    "import torch\n",
    "from torch import nn, optim"
   ]
  },
  {
   "cell_type": "code",
   "execution_count": 36,
   "id": "50b7cd49",
   "metadata": {},
   "outputs": [],
   "source": [
    "# Note: The syntax used here is for the latest gym version (0.26.0)\n",
    "#       If you are using gym versions older than 0.25.0, then the syntax is different:\n",
    "#       e.g. observation = env.reset()\n",
    "#            observation, reward, done, info = env.step(action)\n",
    "#       ref: https://www.gymlibrary.dev/api/core/#gym.Env.step\n",
    "\n",
    "# Question 1: Cartpole-v0\n",
    "env = gym.make(\"CartPole-v0\")\n",
    "\n",
    "\n",
    "class Agent:\n",
    "    def __init__(self, n_states, n_hidden, n_actions, lr):\n",
    "        \n",
    "        self.net = nn.Sequential(nn.Linear(n_states, n_hidden),\n",
    "                                 nn.ReLU(),\n",
    "                                 nn.Linear(n_hidden, n_actions),\n",
    "                                 nn.Softmax(dim=0))\n",
    "        \n",
    "        self.opt = optim.Adam(self.net.parameters(), lr=lr)\n",
    "        \n",
    "    def predict(self, observation):\n",
    "        state = torch.tensor(observation, dtype=torch.float32)\n",
    "        actions = agent.net(state)\n",
    "        \n",
    "        return actions\n",
    "\n",
    "    def update(self, loss):\n",
    "        self.opt.zero_grad()\n",
    "        loss.backward()\n",
    "        self.opt.step()\n"
   ]
  },
  {
   "cell_type": "code",
   "execution_count": 37,
   "id": "18ab74bd",
   "metadata": {},
   "outputs": [],
   "source": [
    "def discount_rewards(rewards, gamma=0.95):\n",
    "    discounted = []\n",
    "    R = 0\n",
    "    for r in rewards[::-1]:\n",
    "        R = r + gamma * R\n",
    "        discounted.insert(0, R)\n",
    "        \n",
    "    discounted = np.array(discounted)\n",
    "    normed = (discounted - discounted.mean())/discounted.std()\n",
    "    \n",
    "    return normed"
   ]
  },
  {
   "cell_type": "code",
   "execution_count": 38,
   "id": "561a3456",
   "metadata": {},
   "outputs": [],
   "source": [
    "agent = Agent(4, 128, 2, lr=0.001)\n",
    "print_every = 10\n",
    "update_every = 1\n",
    "replay = {'actions':[], 'rewards':[]}\n",
    "render = True\n",
    "reward_log = []"
   ]
  },
  {
   "cell_type": "code",
   "execution_count": 39,
   "id": "1cce6c04",
   "metadata": {},
   "outputs": [
    {
     "name": "stdout",
     "output_type": "stream",
     "text": [
      "Cartpole-v0, episode 0\n",
      "Cartpole-v0, episode 1\n",
      "Cartpole-v0, episode 2\n",
      "Cartpole-v0, episode 3\n",
      "Cartpole-v0, episode 4\n",
      "Cartpole-v0, episode 5\n",
      "Cartpole-v0, episode 6\n",
      "Cartpole-v0, episode 7\n",
      "Cartpole-v0, episode 8\n",
      "Cartpole-v0, episode 9\n"
     ]
    }
   ],
   "source": [
    "\n",
    "# Roll out 10 episdoes\n",
    "for episode in range(10):\n",
    "    print(f\"Cartpole-v0, episode {episode}\")\n",
    "    # Initiate one episode\n",
    "    observation, info = env.reset()\n",
    "\n",
    "    obs_history = []\n",
    "    reward_history = []\n",
    "    action_history = []\n",
    "\n",
    "    terminated = False\n",
    "    truncated = False\n",
    "\n",
    "    # Roll out one episode\n",
    "    while (not terminated) and (not truncated):\n",
    "        action_ps = agent.predict(observation)\n",
    "        action = torch.multinomial(action_ps, 1).item()\n",
    "        action_history.append(action_ps[action].unsqueeze(0))\n",
    "                \n",
    "        next_observation, reward, terminated, truncated, info = env.step(action)\n",
    "        \n",
    "        env.render()\n",
    "\n",
    "        obs_history.append(observation)\n",
    "        reward_history.append(reward)\n",
    "\n",
    "        observation = next_observation\n",
    "        \n",
    "        \n",
    "    reward_log.append(sum(reward_history))\n",
    "    losses = []\n",
    "    rewards = discount_rewards(reward_history)\n",
    "\n",
    "    replay['actions'].extend(action_history)\n",
    "    replay['rewards'].extend(rewards)\n",
    "\n",
    "    for a, r in zip(*replay.values()):\n",
    "        losses.append(-torch.log(a)*r)\n",
    "    loss = torch.cat(losses).sum()\n",
    "    agent.update(loss)\n",
    "\n",
    "    replay['actions'], replay['rewards'] = [], []\n",
    "\n",
    "    # TODO: Update your policy using the collected episodes\n",
    "\n",
    "env.close()\n",
    "\n"
   ]
  },
  {
   "cell_type": "code",
   "execution_count": 40,
   "id": "81cecb99",
   "metadata": {},
   "outputs": [
    {
     "data": {
      "text/plain": [
       "[<matplotlib.lines.Line2D at 0x7ff3cfd366d0>]"
      ]
     },
     "execution_count": 40,
     "metadata": {},
     "output_type": "execute_result"
    },
    {
     "data": {
      "image/png": "[encoded data removed]",
      "text/plain": [
       "<Figure size 432x288 with 1 Axes>"
      ]
     },
     "metadata": {
      "needs_background": "light"
     },
     "output_type": "display_data"
    }
   ],
   "source": [
    "plt.plot(reward_log)\n"
   ]
  }
 ],
 "metadata": {
  "kernelspec": {
   "display_name": "Python 3 (ipykernel)",
   "language": "python",
   "name": "python3"
  },
  "language_info": {
   "codemirror_mode": {
    "name": "ipython",
    "version": 3
   },
   "file_extension": ".py",
   "mimetype": "text/x-python",
   "name": "python",
   "nbconvert_exporter": "python",
   "pygments_lexer": "ipython3",
   "version": "3.9.12"
  }
 },
 "nbformat": 4,
 "nbformat_minor": 5
}
